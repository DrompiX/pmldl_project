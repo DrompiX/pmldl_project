{
  "nbformat": 4,
  "nbformat_minor": 0,
  "metadata": {
    "colab": {
      "name": "PMLDL-project.ipynb",
      "provenance": [],
      "collapsed_sections": []
    },
    "kernelspec": {
      "name": "python3",
      "display_name": "Python 3"
    },
    "accelerator": "GPU"
  },
  "cells": [
    {
      "cell_type": "code",
      "metadata": {
        "id": "vxo_38HkM9Im",
        "colab_type": "code",
        "colab": {}
      },
      "source": [
        "import pandas as pd\n",
        "from matplotlib import pyplot as plt\n",
        "\n",
        "import torch\n",
        "import torch.nn as nn\n",
        "from torch.utils.data import Dataset, DataLoader\n",
        "\n",
        "from sklearn.model_selection import train_test_split"
      ],
      "execution_count": 0,
      "outputs": []
    },
    {
      "cell_type": "code",
      "metadata": {
        "id": "uKRzxU_QM01p",
        "colab_type": "code",
        "outputId": "9d6dc49b-ec1a-4972-ac44-d372c7cff344",
        "colab": {
          "base_uri": "https://localhost:8080/",
          "height": 85
        }
      },
      "source": [
        "import requests\n",
        "from tqdm import tqdm\n",
        "\n",
        "def download_file_from_google_drive(id, destination):\n",
        "    URL = \"https://docs.google.com/uc?export=download\"\n",
        "\n",
        "    session = requests.Session()\n",
        "\n",
        "    response = session.get(URL, params = { 'id' : id }, stream = True)\n",
        "    token = get_confirm_token(response)\n",
        "\n",
        "    if token:\n",
        "        params = { 'id' : id, 'confirm' : token }\n",
        "        response = session.get(URL, params = params, stream = True)\n",
        "\n",
        "    save_response_content(response, destination)    \n",
        "\n",
        "def get_confirm_token(response):\n",
        "    for key, value in response.cookies.items():\n",
        "        if key.startswith('download_warning'):\n",
        "            return value\n",
        "    return None\n",
        "\n",
        "def save_response_content(response, destination):\n",
        "    CHUNK_SIZE = 32768\n",
        "    \n",
        "    with open(destination, \"wb\") as f:\n",
        "        print('\\nDownloading file...')\n",
        "        for chunk in tqdm(response.iter_content(CHUNK_SIZE), unit=\"KB\", leave=True):\n",
        "            if chunk: # filter out keep-alive new chunks\n",
        "                f.write(chunk)\n",
        "        print('File was successfully downloaded!')\n",
        "\n",
        "\n",
        "file_id = '1k-1uPww4lWAQ-cQlUHmdsYTmE_J_yOTz'\n",
        "destination = 'user_data.csv'\n",
        "download_file_from_google_drive(file_id, destination)\n"
      ],
      "execution_count": 2,
      "outputs": [
        {
          "output_type": "stream",
          "text": [
            "129KB [00:00, 1086.40KB/s]"
          ],
          "name": "stderr"
        },
        {
          "output_type": "stream",
          "text": [
            "\n",
            "Downloading file...\n"
          ],
          "name": "stdout"
        },
        {
          "output_type": "stream",
          "text": [
            "1544KB [00:00, 4559.28KB/s]"
          ],
          "name": "stderr"
        },
        {
          "output_type": "stream",
          "text": [
            "File was successfully downloaded!\n"
          ],
          "name": "stdout"
        },
        {
          "output_type": "stream",
          "text": [
            "\n"
          ],
          "name": "stderr"
        }
      ]
    },
    {
      "cell_type": "code",
      "metadata": {
        "id": "QenEeiopNLTn",
        "colab_type": "code",
        "outputId": "a26e70d3-7f03-4825-90db-e2dc2869fe92",
        "colab": {
          "base_uri": "https://localhost:8080/",
          "height": 258
        }
      },
      "source": [
        "user_data = pd.read_csv(\"user_data.csv\", index_col=0)\n",
        "user_data.head()"
      ],
      "execution_count": 3,
      "outputs": [
        {
          "output_type": "stream",
          "text": [
            "/usr/local/lib/python3.6/dist-packages/numpy/lib/arraysetops.py:569: FutureWarning: elementwise comparison failed; returning scalar instead, but in the future will perform elementwise comparison\n",
            "  mask |= (ar1 == a)\n"
          ],
          "name": "stderr"
        },
        {
          "output_type": "execute_result",
          "data": {
            "text/html": [
              "<div>\n",
              "<style scoped>\n",
              "    .dataframe tbody tr th:only-of-type {\n",
              "        vertical-align: middle;\n",
              "    }\n",
              "\n",
              "    .dataframe tbody tr th {\n",
              "        vertical-align: top;\n",
              "    }\n",
              "\n",
              "    .dataframe thead th {\n",
              "        text-align: right;\n",
              "    }\n",
              "</style>\n",
              "<table border=\"1\" class=\"dataframe\">\n",
              "  <thead>\n",
              "    <tr style=\"text-align: right;\">\n",
              "      <th></th>\n",
              "      <th>gameid</th>\n",
              "      <th>username</th>\n",
              "      <th>rating</th>\n",
              "    </tr>\n",
              "  </thead>\n",
              "  <tbody>\n",
              "    <tr>\n",
              "      <th>0</th>\n",
              "      <td>2105</td>\n",
              "      <td>Metro123</td>\n",
              "      <td>10.0</td>\n",
              "    </tr>\n",
              "    <tr>\n",
              "      <th>1</th>\n",
              "      <td>2105</td>\n",
              "      <td>BoardGamer2008</td>\n",
              "      <td>10.0</td>\n",
              "    </tr>\n",
              "    <tr>\n",
              "      <th>2</th>\n",
              "      <td>2105</td>\n",
              "      <td>gruenspan47</td>\n",
              "      <td>9.9</td>\n",
              "    </tr>\n",
              "    <tr>\n",
              "      <th>3</th>\n",
              "      <td>2105</td>\n",
              "      <td>moxtaveto</td>\n",
              "      <td>9.0</td>\n",
              "    </tr>\n",
              "    <tr>\n",
              "      <th>4</th>\n",
              "      <td>2105</td>\n",
              "      <td>Mazoon</td>\n",
              "      <td>9.0</td>\n",
              "    </tr>\n",
              "  </tbody>\n",
              "</table>\n",
              "</div>"
            ],
            "text/plain": [
              "   gameid        username  rating\n",
              "0    2105        Metro123    10.0\n",
              "1    2105  BoardGamer2008    10.0\n",
              "2    2105     gruenspan47     9.9\n",
              "3    2105       moxtaveto     9.0\n",
              "4    2105          Mazoon     9.0"
            ]
          },
          "metadata": {
            "tags": []
          },
          "execution_count": 3
        }
      ]
    },
    {
      "cell_type": "code",
      "metadata": {
        "id": "XKIzK80eNtk_",
        "colab_type": "code",
        "colab": {}
      },
      "source": [
        "users = user_data.username.unique()\n",
        "user2id = dict(zip(users, range(len(users))))\n",
        "id2user = dict((v, k) for k, v in user2id.items())\n",
        "\n",
        "games = sorted(user_data.gameid.unique())\n",
        "game2id = dict(zip(games, range(len(games))))\n",
        "id2game = dict((v, k) for k, v in game2id.items())"
      ],
      "execution_count": 0,
      "outputs": []
    },
    {
      "cell_type": "code",
      "metadata": {
        "id": "U8_W0f-hPA27",
        "colab_type": "code",
        "outputId": "d11e28b1-9ffb-41d6-fafa-07f5aa370e26",
        "colab": {
          "base_uri": "https://localhost:8080/",
          "height": 204
        }
      },
      "source": [
        "user_data['userid'] = [user2id[user] for user in user_data.username]\n",
        "user_data['gameid'] = [game2id[game] for game in user_data.gameid]\n",
        "user_data.head()"
      ],
      "execution_count": 5,
      "outputs": [
        {
          "output_type": "execute_result",
          "data": {
            "text/html": [
              "<div>\n",
              "<style scoped>\n",
              "    .dataframe tbody tr th:only-of-type {\n",
              "        vertical-align: middle;\n",
              "    }\n",
              "\n",
              "    .dataframe tbody tr th {\n",
              "        vertical-align: top;\n",
              "    }\n",
              "\n",
              "    .dataframe thead th {\n",
              "        text-align: right;\n",
              "    }\n",
              "</style>\n",
              "<table border=\"1\" class=\"dataframe\">\n",
              "  <thead>\n",
              "    <tr style=\"text-align: right;\">\n",
              "      <th></th>\n",
              "      <th>gameid</th>\n",
              "      <th>username</th>\n",
              "      <th>rating</th>\n",
              "      <th>userid</th>\n",
              "    </tr>\n",
              "  </thead>\n",
              "  <tbody>\n",
              "    <tr>\n",
              "      <th>0</th>\n",
              "      <td>827</td>\n",
              "      <td>Metro123</td>\n",
              "      <td>10.0</td>\n",
              "      <td>0</td>\n",
              "    </tr>\n",
              "    <tr>\n",
              "      <th>1</th>\n",
              "      <td>827</td>\n",
              "      <td>BoardGamer2008</td>\n",
              "      <td>10.0</td>\n",
              "      <td>1</td>\n",
              "    </tr>\n",
              "    <tr>\n",
              "      <th>2</th>\n",
              "      <td>827</td>\n",
              "      <td>gruenspan47</td>\n",
              "      <td>9.9</td>\n",
              "      <td>2</td>\n",
              "    </tr>\n",
              "    <tr>\n",
              "      <th>3</th>\n",
              "      <td>827</td>\n",
              "      <td>moxtaveto</td>\n",
              "      <td>9.0</td>\n",
              "      <td>3</td>\n",
              "    </tr>\n",
              "    <tr>\n",
              "      <th>4</th>\n",
              "      <td>827</td>\n",
              "      <td>Mazoon</td>\n",
              "      <td>9.0</td>\n",
              "      <td>4</td>\n",
              "    </tr>\n",
              "  </tbody>\n",
              "</table>\n",
              "</div>"
            ],
            "text/plain": [
              "   gameid        username  rating  userid\n",
              "0     827        Metro123    10.0       0\n",
              "1     827  BoardGamer2008    10.0       1\n",
              "2     827     gruenspan47     9.9       2\n",
              "3     827       moxtaveto     9.0       3\n",
              "4     827          Mazoon     9.0       4"
            ]
          },
          "metadata": {
            "tags": []
          },
          "execution_count": 5
        }
      ]
    },
    {
      "cell_type": "code",
      "metadata": {
        "id": "1ZxsOs1PPgYf",
        "colab_type": "code",
        "outputId": "ce75ce33-3b31-4778-e1aa-4d966a2ecf24",
        "colab": {
          "base_uri": "https://localhost:8080/",
          "height": 204
        }
      },
      "source": [
        "user_data.drop(columns=['username'], inplace=True)\n",
        "user_data = user_data[['userid', 'gameid', 'rating']]\n",
        "user_data.head()"
      ],
      "execution_count": 6,
      "outputs": [
        {
          "output_type": "execute_result",
          "data": {
            "text/html": [
              "<div>\n",
              "<style scoped>\n",
              "    .dataframe tbody tr th:only-of-type {\n",
              "        vertical-align: middle;\n",
              "    }\n",
              "\n",
              "    .dataframe tbody tr th {\n",
              "        vertical-align: top;\n",
              "    }\n",
              "\n",
              "    .dataframe thead th {\n",
              "        text-align: right;\n",
              "    }\n",
              "</style>\n",
              "<table border=\"1\" class=\"dataframe\">\n",
              "  <thead>\n",
              "    <tr style=\"text-align: right;\">\n",
              "      <th></th>\n",
              "      <th>userid</th>\n",
              "      <th>gameid</th>\n",
              "      <th>rating</th>\n",
              "    </tr>\n",
              "  </thead>\n",
              "  <tbody>\n",
              "    <tr>\n",
              "      <th>0</th>\n",
              "      <td>0</td>\n",
              "      <td>827</td>\n",
              "      <td>10.0</td>\n",
              "    </tr>\n",
              "    <tr>\n",
              "      <th>1</th>\n",
              "      <td>1</td>\n",
              "      <td>827</td>\n",
              "      <td>10.0</td>\n",
              "    </tr>\n",
              "    <tr>\n",
              "      <th>2</th>\n",
              "      <td>2</td>\n",
              "      <td>827</td>\n",
              "      <td>9.9</td>\n",
              "    </tr>\n",
              "    <tr>\n",
              "      <th>3</th>\n",
              "      <td>3</td>\n",
              "      <td>827</td>\n",
              "      <td>9.0</td>\n",
              "    </tr>\n",
              "    <tr>\n",
              "      <th>4</th>\n",
              "      <td>4</td>\n",
              "      <td>827</td>\n",
              "      <td>9.0</td>\n",
              "    </tr>\n",
              "  </tbody>\n",
              "</table>\n",
              "</div>"
            ],
            "text/plain": [
              "   userid  gameid  rating\n",
              "0       0     827    10.0\n",
              "1       1     827    10.0\n",
              "2       2     827     9.9\n",
              "3       3     827     9.0\n",
              "4       4     827     9.0"
            ]
          },
          "metadata": {
            "tags": []
          },
          "execution_count": 6
        }
      ]
    },
    {
      "cell_type": "code",
      "metadata": {
        "id": "LrSXerPPZ0VB",
        "colab_type": "code",
        "outputId": "1cb070d6-9892-4f58-c2cf-887468a45362",
        "colab": {
          "base_uri": "https://localhost:8080/",
          "height": 34
        }
      },
      "source": [
        "d_train, d_test = train_test_split(user_data, test_size=0.3, random_state=7)\n",
        "print(len(d_train), len(d_test))"
      ],
      "execution_count": 7,
      "outputs": [
        {
          "output_type": "stream",
          "text": [
            "1294121 554624\n"
          ],
          "name": "stdout"
        }
      ]
    },
    {
      "cell_type": "code",
      "metadata": {
        "id": "lSVSidIr1Ova",
        "colab_type": "code",
        "colab": {}
      },
      "source": [
        "class RatingDataset(Dataset):\n",
        "    def __init__(self, user_tensor, item_tensor, rating_tensor):\n",
        "        self.user_tensor = user_tensor\n",
        "        self.item_tensor = item_tensor\n",
        "        self.rating_tensor = rating_tensor\n",
        "\n",
        "    def __getitem__(self, index):\n",
        "        return self.user_tensor[index], self.item_tensor[index], self.rating_tensor[index]\n",
        "    \n",
        "    def __len__(self):\n",
        "        return self.user_tensor.size(0)"
      ],
      "execution_count": 0,
      "outputs": []
    },
    {
      "cell_type": "code",
      "metadata": {
        "id": "_1oQvfvP2Gz_",
        "colab_type": "code",
        "outputId": "e35c2296-5ddc-4b81-b170-2131d72ee88b",
        "colab": {
          "base_uri": "https://localhost:8080/",
          "height": 102
        }
      },
      "source": [
        "train_dataset = RatingDataset(\n",
        "    torch.tensor(d_train.userid.values, dtype=torch.long),\n",
        "    torch.tensor(d_train.gameid.values, dtype=torch.long),\n",
        "    torch.tensor(d_train.rating.values, dtype=torch.float)\n",
        ")\n",
        "\n",
        "print(d_train.iloc[0])\n",
        "print(train_dataset[0])"
      ],
      "execution_count": 9,
      "outputs": [
        {
          "output_type": "stream",
          "text": [
            "userid    5138.0\n",
            "gameid     815.0\n",
            "rating       7.0\n",
            "Name: 1204290, dtype: float64\n",
            "(tensor(5138), tensor(815), tensor(7.))\n"
          ],
          "name": "stdout"
        }
      ]
    },
    {
      "cell_type": "code",
      "metadata": {
        "id": "MEK_Rzuk27mu",
        "colab_type": "code",
        "colab": {}
      },
      "source": [
        "batch_size = 1024\n",
        "\n",
        "train_loader = DataLoader(train_dataset, batch_size=batch_size, shuffle=True)"
      ],
      "execution_count": 0,
      "outputs": []
    },
    {
      "cell_type": "code",
      "metadata": {
        "id": "LqW9jm8D3ehT",
        "colab_type": "code",
        "colab": {}
      },
      "source": [
        "class NeuMF(nn.Module):\n",
        "    def __init__(self, config):\n",
        "        super(NeuMF, self).__init__()\n",
        "        self.config = config\n",
        "        self.num_users = config['num_users']\n",
        "        self.num_items = config['num_items']\n",
        "        self.latent_dim_mf = config['latent_dim_mf']\n",
        "        self.latent_dim_mlp = config['latent_dim_mlp']\n",
        "\n",
        "        self.embedding_user_mlp = nn.Embedding(num_embeddings=self.num_users, embedding_dim=self.latent_dim_mlp)\n",
        "        self.embedding_item_mlp = nn.Embedding(num_embeddings=self.num_items, embedding_dim=self.latent_dim_mlp)\n",
        "        self.embedding_user_mf = nn.Embedding(num_embeddings=self.num_users, embedding_dim=self.latent_dim_mf)\n",
        "        self.embedding_item_mf = nn.Embedding(num_embeddings=self.num_items, embedding_dim=self.latent_dim_mf)\n",
        "\n",
        "        self.fc_layers = nn.ModuleList()\n",
        "        for idx, (in_size, out_size) in enumerate(zip(config['layers'][:-1], config['layers'][1:])):\n",
        "            self.fc_layers.append(nn.Linear(in_size, out_size))\n",
        "\n",
        "        self.affine_output = nn.Linear(in_features=config['layers'][-1] + config['latent_dim_mf'], out_features=1)\n",
        "\n",
        "    def forward(self, user_indices, item_indices):\n",
        "        user_embedding_mlp = self.embedding_user_mlp(user_indices)\n",
        "        item_embedding_mlp = self.embedding_item_mlp(item_indices)\n",
        "        user_embedding_mf = self.embedding_user_mf(user_indices)\n",
        "        item_embedding_mf = self.embedding_item_mf(item_indices)\n",
        "\n",
        "        mlp_vector = torch.cat([user_embedding_mlp, item_embedding_mlp], dim=1)\n",
        "        mf_vector = torch.mul(user_embedding_mf, item_embedding_mf)\n",
        "\n",
        "        for idx, _ in enumerate(range(len(self.fc_layers))):\n",
        "            mlp_vector = self.fc_layers[idx](mlp_vector)\n",
        "            mlp_vector = nn.ReLU()(mlp_vector)\n",
        "\n",
        "        vector = torch.cat([mlp_vector, mf_vector], dim=-1)\n",
        "        logits = self.affine_output(vector)\n",
        "        rating = logits\n",
        "        return rating"
      ],
      "execution_count": 0,
      "outputs": []
    },
    {
      "cell_type": "code",
      "metadata": {
        "id": "I03CQZSi3rrz",
        "colab_type": "code",
        "colab": {}
      },
      "source": [
        "device = torch.device('cuda') if torch.cuda.is_available() else torch.device('cpu')\n",
        "\n",
        "config = {\n",
        "    'num_users': len(user2id),\n",
        "    'num_items': len(game2id),\n",
        "    'latent_dim_mf': 4,\n",
        "    'latent_dim_mlp': 4,\n",
        "    'layers': [8, 32, 16]\n",
        "}"
      ],
      "execution_count": 0,
      "outputs": []
    },
    {
      "cell_type": "code",
      "metadata": {
        "id": "Szxm7PfA3iX5",
        "colab_type": "code",
        "colab": {}
      },
      "source": [
        "neumf = NeuMF(config).to(device)\n",
        "optimizer = torch.optim.Adam(neumf.parameters(), lr=1e-3)\n",
        "criterion = nn.MSELoss()"
      ],
      "execution_count": 0,
      "outputs": []
    },
    {
      "cell_type": "code",
      "metadata": {
        "id": "ImTp3Y4nIY6O",
        "colab_type": "code",
        "outputId": "c035f264-8eb6-4bd8-e041-672973c5c72b",
        "colab": {
          "base_uri": "https://localhost:8080/",
          "height": 272
        }
      },
      "source": [
        "epochs = 15\n",
        "\n",
        "losses = []\n",
        "for epoch in range(epochs):\n",
        "    neumf.train()\n",
        "    epoch_loss = 0\n",
        "    for i, batch in enumerate(train_loader, start=1):\n",
        "        users, games, ratings = batch[0].to(device), batch[1].to(device), batch[2].to(device)\n",
        "        \n",
        "        optimizer.zero_grad()\n",
        "        \n",
        "        preds = neumf(users, games)\n",
        "        loss = criterion(preds.view(-1), ratings)\n",
        "        \n",
        "        loss.backward()\n",
        "        optimizer.step()\n",
        "        \n",
        "        epoch_loss += loss.item() * preds.shape[0]\n",
        "        print(f'\\rBatch [{i}/{len(train_loader)}]', end='')\n",
        "\n",
        "    epoch_loss = epoch_loss / len(train_dataset)\n",
        "    print(f'\\rEpoch [{epoch + 1}/{epochs}] | Avg. Loss = {epoch_loss}')\n",
        "    losses.append(epoch_loss)"
      ],
      "execution_count": 47,
      "outputs": [
        {
          "output_type": "stream",
          "text": [
            "Epoch [1/15] | Avg. Loss = 5.501389621467295\n",
            "Epoch [2/15] | Avg. Loss = 1.4656563983897113\n",
            "Epoch [3/15] | Avg. Loss = 1.2045200771002769\n",
            "Epoch [4/15] | Avg. Loss = 0.9761776027315117\n",
            "Epoch [5/15] | Avg. Loss = 0.8728631351622766\n",
            "Epoch [6/15] | Avg. Loss = 0.8144937322202657\n",
            "Epoch [7/15] | Avg. Loss = 0.7685617256982689\n",
            "Epoch [8/15] | Avg. Loss = 0.7304579089117601\n",
            "Epoch [9/15] | Avg. Loss = 0.7001973025404565\n",
            "Epoch [10/15] | Avg. Loss = 0.6761731768893269\n",
            "Epoch [11/15] | Avg. Loss = 0.6573609029673745\n",
            "Epoch [12/15] | Avg. Loss = 0.6426873493975687\n",
            "Epoch [13/15] | Avg. Loss = 0.6310878650991147\n",
            "Epoch [14/15] | Avg. Loss = 0.6214876009678889\n",
            "Epoch [15/15] | Avg. Loss = 0.6132884743838807\n"
          ],
          "name": "stdout"
        }
      ]
    },
    {
      "cell_type": "code",
      "metadata": {
        "id": "ADrfwiYtFuDU",
        "colab_type": "code",
        "colab": {}
      },
      "source": [
        "torch.save(neumf.state_dict(), \"drive/My Drive/rating_pred_25.pth\")"
      ],
      "execution_count": 0,
      "outputs": []
    },
    {
      "cell_type": "code",
      "metadata": {
        "id": "pDe9xndYAFbU",
        "colab_type": "code",
        "outputId": "6dcdd7a9-2f8c-45d7-f0d4-7b246bf88d4c",
        "colab": {
          "base_uri": "https://localhost:8080/",
          "height": 404
        }
      },
      "source": [
        "plt.figure(figsize=(12, 6))\n",
        "plt.plot(range(1, len(losses) + 1), losses, 'bo-')\n",
        "plt.title('Loss from epoch')\n",
        "plt.xlabel('Epoch')\n",
        "plt.ylabel('Loss')\n",
        "plt.show()"
      ],
      "execution_count": 51,
      "outputs": [
        {
          "output_type": "display_data",
          "data": {
            "image/png": "[encoded data removed]",
            "text/plain": [
              "<Figure size 864x432 with 1 Axes>"
            ]
          },
          "metadata": {
            "tags": [],
            "needs_background": "light"
          }
        }
      ]
    },
    {
      "cell_type": "code",
      "metadata": {
        "id": "JG7m5COZ5beV",
        "colab_type": "code",
        "outputId": "4622d0e8-d5ba-47d6-9c98-a9c3e66889b8",
        "colab": {
          "base_uri": "https://localhost:8080/",
          "height": 34
        }
      },
      "source": [
        "neumf.eval()\n",
        "\n",
        "test_users = torch.tensor(d_test.userid.values, dtype=torch.long).to(device)\n",
        "test_games = torch.tensor(d_test.gameid.values, dtype=torch.long).to(device)\n",
        "test_ratings = torch.tensor(d_test.rating.values, dtype=torch.float).to(device)\n",
        "\n",
        "preds = neumf(test_users, test_games).view(-1)\n",
        "criterion(preds, test_ratings).item()"
      ],
      "execution_count": 52,
      "outputs": [
        {
          "output_type": "execute_result",
          "data": {
            "text/plain": [
              "0.7130582928657532"
            ]
          },
          "metadata": {
            "tags": []
          },
          "execution_count": 52
        }
      ]
    },
    {
      "cell_type": "code",
      "metadata": {
        "id": "C4oSH4sZG2jT",
        "colab_type": "code",
        "outputId": "c45032c2-ddb4-4555-b0ce-937e6400451a",
        "colab": {
          "base_uri": "https://localhost:8080/",
          "height": 34
        }
      },
      "source": [
        "neumf.load_state_dict(torch.load(\"drive/My Drive/rating_pred_25.pth\"))"
      ],
      "execution_count": 0,
      "outputs": [
        {
          "output_type": "execute_result",
          "data": {
            "text/plain": [
              "<All keys matched successfully>"
            ]
          },
          "metadata": {
            "tags": []
          },
          "execution_count": 15
        }
      ]
    },
    {
      "cell_type": "code",
      "metadata": {
        "id": "MX-Y_3z7GffD",
        "colab_type": "code",
        "colab": {}
      },
      "source": [
        "from sklearn.metrics import mean_absolute_error"
      ],
      "execution_count": 0,
      "outputs": []
    },
    {
      "cell_type": "code",
      "metadata": {
        "id": "br4UD1AmHelV",
        "colab_type": "code",
        "outputId": "c04af166-c0fe-4961-c560-cd293983a9bf",
        "colab": {
          "base_uri": "https://localhost:8080/",
          "height": 34
        }
      },
      "source": [
        "neumf.eval()\n",
        "\n",
        "total_error = 0\n",
        "test_users = torch.tensor(d_test.userid.values, dtype=torch.long).to(device)\n",
        "test_games = torch.tensor(d_test.gameid.values, dtype=torch.long).to(device)\n",
        "test_ratings = torch.tensor(d_test.rating.values, dtype=torch.float).to(device)\n",
        "\n",
        "preds = neumf(test_users, test_games).view(-1)\n",
        "mean_absolute_error(preds.detach().cpu(), test_ratings.detach().cpu())"
      ],
      "execution_count": 54,
      "outputs": [
        {
          "output_type": "execute_result",
          "data": {
            "text/plain": [
              "0.64650196"
            ]
          },
          "metadata": {
            "tags": []
          },
          "execution_count": 54
        }
      ]
    }
  ]
}