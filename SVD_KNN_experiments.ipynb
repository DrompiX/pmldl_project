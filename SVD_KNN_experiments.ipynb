{
  "nbformat": 4,
  "nbformat_minor": 0,
  "metadata": {
    "colab": {
      "name": "SVD_KNN_experiments.ipynb",
      "provenance": [],
      "collapsed_sections": [],
      "machine_shape": "hm"
    },
    "kernelspec": {
      "name": "python3",
      "display_name": "Python 3"
    },
    "accelerator": "GPU"
  },
  "cells": [
    {
      "cell_type": "markdown",
      "metadata": {
        "id": "3f5bpC1KYFs5",
        "colab_type": "text"
      },
      "source": [
        "### Installation and import of required fields\n"
      ]
    },
    {
      "cell_type": "code",
      "metadata": {
        "id": "-JCCThp_GP2m",
        "colab_type": "code",
        "outputId": "30bf44e5-b867-4313-c1b7-9e78a0b001bd",
        "colab": {
          "base_uri": "https://localhost:8080/",
          "height": 292
        }
      },
      "source": [
        "!pip install numpy\n",
        "!pip install scikit-surprise"
      ],
      "execution_count": 3,
      "outputs": [
        {
          "output_type": "stream",
          "text": [
            "Requirement already satisfied: numpy in /usr/local/lib/python3.6/dist-packages (1.18.4)\n",
            "Collecting scikit-surprise\n",
            "\u001b[?25l  Downloading https://files.pythonhosted.org/packages/f5/da/b5700d96495fb4f092be497f02492768a3d96a3f4fa2ae7dea46d4081cfa/scikit-surprise-1.1.0.tar.gz (6.4MB)\n",
            "\u001b[K     |████████████████████████████████| 6.5MB 2.7MB/s \n",
            "\u001b[?25hRequirement already satisfied: joblib>=0.11 in /usr/local/lib/python3.6/dist-packages (from scikit-surprise) (0.14.1)\n",
            "Requirement already satisfied: numpy>=1.11.2 in /usr/local/lib/python3.6/dist-packages (from scikit-surprise) (1.18.4)\n",
            "Requirement already satisfied: scipy>=1.0.0 in /usr/local/lib/python3.6/dist-packages (from scikit-surprise) (1.4.1)\n",
            "Requirement already satisfied: six>=1.10.0 in /usr/local/lib/python3.6/dist-packages (from scikit-surprise) (1.12.0)\n",
            "Building wheels for collected packages: scikit-surprise\n",
            "  Building wheel for scikit-surprise (setup.py) ... \u001b[?25l\u001b[?25hdone\n",
            "  Created wheel for scikit-surprise: filename=scikit_surprise-1.1.0-cp36-cp36m-linux_x86_64.whl size=1673654 sha256=e74d03c1f5db33de47bea009bdeddd3cd725022e7e3757dd28a2e70969210a83\n",
            "  Stored in directory: /root/.cache/pip/wheels/cc/fa/8c/16c93fccce688ae1bde7d979ff102f7bee980d9cfeb8641bcf\n",
            "Successfully built scikit-surprise\n",
            "Installing collected packages: scikit-surprise\n",
            "Successfully installed scikit-surprise-1.1.0\n"
          ],
          "name": "stdout"
        }
      ]
    },
    {
      "cell_type": "code",
      "metadata": {
        "id": "dqtij6IxJ4qV",
        "colab_type": "code",
        "colab": {}
      },
      "source": [
        "import pandas as pd\n",
        "import numpy as np\n",
        "from surprise import SVD\n",
        "from surprise import NormalPredictor\n",
        "from surprise import Dataset\n",
        "from surprise import Reader\n",
        "from surprise.model_selection import cross_validate\n",
        "import matplotlib.pyplot as plt"
      ],
      "execution_count": 0,
      "outputs": []
    },
    {
      "cell_type": "markdown",
      "metadata": {
        "id": "yqOo_WnRYuh8",
        "colab_type": "text"
      },
      "source": [
        "### Downloading the dataset (already preprocessed)"
      ]
    },
    {
      "cell_type": "code",
      "metadata": {
        "id": "OuR17P7cR2ID",
        "colab_type": "code",
        "colab": {
          "base_uri": "https://localhost:8080/",
          "height": 326
        },
        "outputId": "cd5dd66a-e314-4a84-a7ac-41b1d3ca5429"
      },
      "source": [
        "!wget \"https://drive.google.com/uc?export=download&id=1k-1uPww4lWAQ-cQlUHmdsYTmE_J_yOTz\" -O users_without_dubs.csv"
      ],
      "execution_count": 1,
      "outputs": [
        {
          "output_type": "stream",
          "text": [
            "--2020-05-11 10:40:42--  https://drive.google.com/uc?export=download&id=1k-1uPww4lWAQ-cQlUHmdsYTmE_J_yOTz\n",
            "Resolving drive.google.com (drive.google.com)... 108.177.111.102, 108.177.111.113, 108.177.111.138, ...\n",
            "Connecting to drive.google.com (drive.google.com)|108.177.111.102|:443... connected.\n",
            "HTTP request sent, awaiting response... 302 Moved Temporarily\n",
            "Location: https://doc-10-08-docs.googleusercontent.com/docs/securesc/ha0ro937gcuc7l7deffksulhg5h7mbp1/09tjcad488cn2sig2gle267ep4k3ctmr/1589193600000/08871784378030230384/*/1k-1uPww4lWAQ-cQlUHmdsYTmE_J_yOTz?e=download [following]\n",
            "Warning: wildcards not supported in HTTP.\n",
            "--2020-05-11 10:40:45--  https://doc-10-08-docs.googleusercontent.com/docs/securesc/ha0ro937gcuc7l7deffksulhg5h7mbp1/09tjcad488cn2sig2gle267ep4k3ctmr/1589193600000/08871784378030230384/*/1k-1uPww4lWAQ-cQlUHmdsYTmE_J_yOTz?e=download\n",
            "Resolving doc-10-08-docs.googleusercontent.com (doc-10-08-docs.googleusercontent.com)... 108.177.112.132, 2607:f8b0:4001:c12::84\n",
            "Connecting to doc-10-08-docs.googleusercontent.com (doc-10-08-docs.googleusercontent.com)|108.177.112.132|:443... connected.\n",
            "HTTP request sent, awaiting response... 200 OK\n",
            "Length: unspecified [text/csv]\n",
            "Saving to: ‘users_without_dubs.csv’\n",
            "\n",
            "users_without_dubs.     [   <=>              ]  48.22M  89.9MB/s    in 0.5s    \n",
            "\n",
            "2020-05-11 10:40:45 (89.9 MB/s) - ‘users_without_dubs.csv’ saved [50562711]\n",
            "\n"
          ],
          "name": "stdout"
        }
      ]
    },
    {
      "cell_type": "markdown",
      "metadata": {
        "id": "J-YpUQPgY1vQ",
        "colab_type": "text"
      },
      "source": [
        "#### Minor fixes"
      ]
    },
    {
      "cell_type": "code",
      "metadata": {
        "id": "hu3OKntXUsTY",
        "colab_type": "code",
        "colab": {
          "base_uri": "https://localhost:8080/",
          "height": 419
        },
        "outputId": "4d76aa85-9165-41c7-d468-12b31b01e089"
      },
      "source": [
        "ratings = pd.read_csv(\"users_without_dubs.csv\")\n",
        "del ratings['Unnamed: 0']\n",
        "ratings"
      ],
      "execution_count": 12,
      "outputs": [
        {
          "output_type": "execute_result",
          "data": {
            "text/html": [
              "<div>\n",
              "<style scoped>\n",
              "    .dataframe tbody tr th:only-of-type {\n",
              "        vertical-align: middle;\n",
              "    }\n",
              "\n",
              "    .dataframe tbody tr th {\n",
              "        vertical-align: top;\n",
              "    }\n",
              "\n",
              "    .dataframe thead th {\n",
              "        text-align: right;\n",
              "    }\n",
              "</style>\n",
              "<table border=\"1\" class=\"dataframe\">\n",
              "  <thead>\n",
              "    <tr style=\"text-align: right;\">\n",
              "      <th></th>\n",
              "      <th>gameid</th>\n",
              "      <th>username</th>\n",
              "      <th>rating</th>\n",
              "    </tr>\n",
              "  </thead>\n",
              "  <tbody>\n",
              "    <tr>\n",
              "      <th>0</th>\n",
              "      <td>2105</td>\n",
              "      <td>Metro123</td>\n",
              "      <td>10.0</td>\n",
              "    </tr>\n",
              "    <tr>\n",
              "      <th>1</th>\n",
              "      <td>2105</td>\n",
              "      <td>BoardGamer2008</td>\n",
              "      <td>10.0</td>\n",
              "    </tr>\n",
              "    <tr>\n",
              "      <th>2</th>\n",
              "      <td>2105</td>\n",
              "      <td>gruenspan47</td>\n",
              "      <td>9.9</td>\n",
              "    </tr>\n",
              "    <tr>\n",
              "      <th>3</th>\n",
              "      <td>2105</td>\n",
              "      <td>moxtaveto</td>\n",
              "      <td>9.0</td>\n",
              "    </tr>\n",
              "    <tr>\n",
              "      <th>4</th>\n",
              "      <td>2105</td>\n",
              "      <td>Mazoon</td>\n",
              "      <td>9.0</td>\n",
              "    </tr>\n",
              "    <tr>\n",
              "      <th>...</th>\n",
              "      <td>...</td>\n",
              "      <td>...</td>\n",
              "      <td>...</td>\n",
              "    </tr>\n",
              "    <tr>\n",
              "      <th>1848740</th>\n",
              "      <td>290837</td>\n",
              "      <td>thesinators</td>\n",
              "      <td>10.0</td>\n",
              "    </tr>\n",
              "    <tr>\n",
              "      <th>1848741</th>\n",
              "      <td>290837</td>\n",
              "      <td>tieforces</td>\n",
              "      <td>10.0</td>\n",
              "    </tr>\n",
              "    <tr>\n",
              "      <th>1848742</th>\n",
              "      <td>290837</td>\n",
              "      <td>vincivader</td>\n",
              "      <td>10.0</td>\n",
              "    </tr>\n",
              "    <tr>\n",
              "      <th>1848743</th>\n",
              "      <td>290837</td>\n",
              "      <td>willvon</td>\n",
              "      <td>10.0</td>\n",
              "    </tr>\n",
              "    <tr>\n",
              "      <th>1848744</th>\n",
              "      <td>290837</td>\n",
              "      <td>wolverine5523</td>\n",
              "      <td>10.0</td>\n",
              "    </tr>\n",
              "  </tbody>\n",
              "</table>\n",
              "<p>1848745 rows × 3 columns</p>\n",
              "</div>"
            ],
            "text/plain": [
              "         gameid        username  rating\n",
              "0          2105        Metro123    10.0\n",
              "1          2105  BoardGamer2008    10.0\n",
              "2          2105     gruenspan47     9.9\n",
              "3          2105       moxtaveto     9.0\n",
              "4          2105          Mazoon     9.0\n",
              "...         ...             ...     ...\n",
              "1848740  290837     thesinators    10.0\n",
              "1848741  290837       tieforces    10.0\n",
              "1848742  290837      vincivader    10.0\n",
              "1848743  290837         willvon    10.0\n",
              "1848744  290837   wolverine5523    10.0\n",
              "\n",
              "[1848745 rows x 3 columns]"
            ]
          },
          "metadata": {
            "tags": []
          },
          "execution_count": 12
        }
      ]
    },
    {
      "cell_type": "markdown",
      "metadata": {
        "id": "XDggQSDIZQVY",
        "colab_type": "text"
      },
      "source": [
        "### Some data visualization"
      ]
    },
    {
      "cell_type": "markdown",
      "metadata": {
        "id": "yN719O3jZEkX",
        "colab_type": "text"
      },
      "source": [
        "#### Histogram of rating distribution of the dataset"
      ]
    },
    {
      "cell_type": "code",
      "metadata": {
        "id": "hI0RfX_UvDUM",
        "colab_type": "code",
        "outputId": "ce406ed0-b488-48e9-accd-9489169d5fa1",
        "colab": {
          "base_uri": "https://localhost:8080/",
          "height": 283
        }
      },
      "source": [
        "ratings['rating'].hist()"
      ],
      "execution_count": 17,
      "outputs": [
        {
          "output_type": "execute_result",
          "data": {
            "text/plain": [
              "<matplotlib.axes._subplots.AxesSubplot at 0x7f7e2681ada0>"
            ]
          },
          "metadata": {
            "tags": []
          },
          "execution_count": 17
        },
        {
          "output_type": "display_data",
          "data": {
            "image/png": "[encoded data removed]",
            "text/plain": [
              "<Figure size 432x288 with 1 Axes>"
            ]
          },
          "metadata": {
            "tags": [],
            "needs_background": "light"
          }
        }
      ]
    },
    {
      "cell_type": "markdown",
      "metadata": {
        "id": "5JeQC5_uZerp",
        "colab_type": "text"
      },
      "source": [
        "#### Amount of entries of various games"
      ]
    },
    {
      "cell_type": "code",
      "metadata": {
        "id": "IgUWHCjbh0Sl",
        "colab_type": "code",
        "outputId": "7d09568e-7315-4e97-f376-dd7fad8f71c3",
        "colab": {
          "base_uri": "https://localhost:8080/",
          "height": 221
        }
      },
      "source": [
        "pd.value_counts(ratings[\"gameid\"]) #length is number of unique values"
      ],
      "execution_count": 0,
      "outputs": [
        {
          "output_type": "execute_result",
          "data": {
            "text/plain": [
              "822       32766\n",
              "13        31560\n",
              "16          764\n",
              "24770       756\n",
              "39927       752\n",
              "          ...  \n",
              "160094       17\n",
              "261393       15\n",
              "178835       10\n",
              "298627       10\n",
              "168230        5\n",
              "Name: gameid, Length: 10510, dtype: int64"
            ]
          },
          "metadata": {
            "tags": []
          },
          "execution_count": 6
        }
      ]
    },
    {
      "cell_type": "markdown",
      "metadata": {
        "id": "vm24Gn0uZqog",
        "colab_type": "text"
      },
      "source": [
        "#### The ratings of the different games"
      ]
    },
    {
      "cell_type": "code",
      "metadata": {
        "id": "b4ugeE0KoKHQ",
        "colab_type": "code",
        "outputId": "20a111b2-b10c-4eea-fba9-5a8456f42cb7",
        "colab": {
          "base_uri": "https://localhost:8080/",
          "height": 419
        }
      },
      "source": [
        "ratings.sort_values(by = \"gameid\")"
      ],
      "execution_count": 0,
      "outputs": [
        {
          "output_type": "execute_result",
          "data": {
            "text/html": [
              "<div>\n",
              "<style scoped>\n",
              "    .dataframe tbody tr th:only-of-type {\n",
              "        vertical-align: middle;\n",
              "    }\n",
              "\n",
              "    .dataframe tbody tr th {\n",
              "        vertical-align: top;\n",
              "    }\n",
              "\n",
              "    .dataframe thead th {\n",
              "        text-align: right;\n",
              "    }\n",
              "</style>\n",
              "<table border=\"1\" class=\"dataframe\">\n",
              "  <thead>\n",
              "    <tr style=\"text-align: right;\">\n",
              "      <th></th>\n",
              "      <th>gameid</th>\n",
              "      <th>username</th>\n",
              "      <th>rating</th>\n",
              "    </tr>\n",
              "  </thead>\n",
              "  <tbody>\n",
              "    <tr>\n",
              "      <th>1372188</th>\n",
              "      <td>2</td>\n",
              "      <td>javelin98</td>\n",
              "      <td>10.00</td>\n",
              "    </tr>\n",
              "    <tr>\n",
              "      <th>544395</th>\n",
              "      <td>2</td>\n",
              "      <td>BloodyJack</td>\n",
              "      <td>7.00</td>\n",
              "    </tr>\n",
              "    <tr>\n",
              "      <th>544396</th>\n",
              "      <td>2</td>\n",
              "      <td>potterama</td>\n",
              "      <td>7.00</td>\n",
              "    </tr>\n",
              "    <tr>\n",
              "      <th>544397</th>\n",
              "      <td>2</td>\n",
              "      <td>Dorque</td>\n",
              "      <td>7.00</td>\n",
              "    </tr>\n",
              "    <tr>\n",
              "      <th>544398</th>\n",
              "      <td>2</td>\n",
              "      <td>StormKnight</td>\n",
              "      <td>7.00</td>\n",
              "    </tr>\n",
              "    <tr>\n",
              "      <th>...</th>\n",
              "      <td>...</td>\n",
              "      <td>...</td>\n",
              "      <td>...</td>\n",
              "    </tr>\n",
              "    <tr>\n",
              "      <th>119520</th>\n",
              "      <td>299121</td>\n",
              "      <td>Blackfire0</td>\n",
              "      <td>8.00</td>\n",
              "    </tr>\n",
              "    <tr>\n",
              "      <th>119519</th>\n",
              "      <td>299121</td>\n",
              "      <td>Jokerman</td>\n",
              "      <td>8.00</td>\n",
              "    </tr>\n",
              "    <tr>\n",
              "      <th>119518</th>\n",
              "      <td>299121</td>\n",
              "      <td>Rayman1971</td>\n",
              "      <td>8.25</td>\n",
              "    </tr>\n",
              "    <tr>\n",
              "      <th>119516</th>\n",
              "      <td>299121</td>\n",
              "      <td>theozz</td>\n",
              "      <td>9.00</td>\n",
              "    </tr>\n",
              "    <tr>\n",
              "      <th>119494</th>\n",
              "      <td>299121</td>\n",
              "      <td>graysondc</td>\n",
              "      <td>10.00</td>\n",
              "    </tr>\n",
              "  </tbody>\n",
              "</table>\n",
              "<p>1848745 rows × 3 columns</p>\n",
              "</div>"
            ],
            "text/plain": [
              "         gameid     username  rating\n",
              "1372188       2    javelin98   10.00\n",
              "544395        2   BloodyJack    7.00\n",
              "544396        2    potterama    7.00\n",
              "544397        2       Dorque    7.00\n",
              "544398        2  StormKnight    7.00\n",
              "...         ...          ...     ...\n",
              "119520   299121   Blackfire0    8.00\n",
              "119519   299121     Jokerman    8.00\n",
              "119518   299121   Rayman1971    8.25\n",
              "119516   299121       theozz    9.00\n",
              "119494   299121    graysondc   10.00\n",
              "\n",
              "[1848745 rows x 3 columns]"
            ]
          },
          "metadata": {
            "tags": []
          },
          "execution_count": 31
        }
      ]
    },
    {
      "cell_type": "markdown",
      "metadata": {
        "id": "YwNT2sCLZwf1",
        "colab_type": "text"
      },
      "source": [
        "#### The amount of entries for various users"
      ]
    },
    {
      "cell_type": "code",
      "metadata": {
        "id": "fY-xhczaiKw-",
        "colab_type": "code",
        "outputId": "4256ebf4-9a70-4520-d9eb-228bf2cca3ac",
        "colab": {
          "base_uri": "https://localhost:8080/",
          "height": 221
        }
      },
      "source": [
        "pd.value_counts(ratings[\"username\"]) # is the number of unique values"
      ],
      "execution_count": 0,
      "outputs": [
        {
          "output_type": "execute_result",
          "data": {
            "text/plain": [
              "Doel               3104\n",
              "Walt Mulder        2631\n",
              "RichardIngram      1865\n",
              "Tolkana            1807\n",
              "TomVasel           1795\n",
              "                   ... \n",
              "marrog               10\n",
              "Litespeed Rider      10\n",
              "Wanderer12           10\n",
              "pearmanb             10\n",
              "seanow               10\n",
              "Name: username, Length: 52630, dtype: int64"
            ]
          },
          "metadata": {
            "tags": []
          },
          "execution_count": 7
        }
      ]
    },
    {
      "cell_type": "markdown",
      "metadata": {
        "id": "z8MBppf7Z8Sr",
        "colab_type": "text"
      },
      "source": [
        "#### The amount of rating for different users"
      ]
    },
    {
      "cell_type": "code",
      "metadata": {
        "id": "3Ht2EDAWiw57",
        "colab_type": "code",
        "outputId": "6bc3bb60-18fd-4f30-81ea-897542b4d213",
        "colab": {
          "base_uri": "https://localhost:8080/",
          "height": 221
        }
      },
      "source": [
        "pd.value_counts(ratings[\"rating\"])"
      ],
      "execution_count": 0,
      "outputs": [
        {
          "output_type": "execute_result",
          "data": {
            "text/plain": [
              "7.00000     479434\n",
              "8.00000     400625\n",
              "6.00000     278671\n",
              "9.00000     181279\n",
              "10.00000     99797\n",
              "             ...  \n",
              "7.14174          1\n",
              "6.71111          1\n",
              "8.06500          1\n",
              "8.30160          1\n",
              "7.01447          1\n",
              "Name: rating, Length: 3673, dtype: int64"
            ]
          },
          "metadata": {
            "tags": []
          },
          "execution_count": 8
        }
      ]
    },
    {
      "cell_type": "markdown",
      "metadata": {
        "id": "KqvsQawkaJs1",
        "colab_type": "text"
      },
      "source": [
        "## SVD experiments"
      ]
    },
    {
      "cell_type": "markdown",
      "metadata": {
        "id": "ubTBMVbHcwSY",
        "colab_type": "text"
      },
      "source": [
        "#### Initializing Reader"
      ]
    },
    {
      "cell_type": "code",
      "metadata": {
        "id": "LZOFAXfMpII6",
        "colab_type": "code",
        "outputId": "f7a5315f-cf6a-4233-fb84-f949cf053d6a",
        "colab": {
          "base_uri": "https://localhost:8080/",
          "height": 34
        }
      },
      "source": [
        "reader = Reader(rating_scale=(1, 10))\n",
        "data = Dataset.load_from_df(ratings[[ 'gameid', 'username', 'rating']], reader)"
      ],
      "execution_count": 14,
      "outputs": [
        {
          "output_type": "stream",
          "text": [
            "<surprise.dataset.DatasetAutoFolds object at 0x7f7e4552eef0>\n"
          ],
          "name": "stdout"
        }
      ]
    },
    {
      "cell_type": "markdown",
      "metadata": {
        "id": "BNSDS799c540",
        "colab_type": "text"
      },
      "source": [
        "#### Launch SVD train and predict and visualize results"
      ]
    },
    {
      "cell_type": "code",
      "metadata": {
        "id": "313hK4OAkGay",
        "colab_type": "code",
        "colab": {}
      },
      "source": [
        "from surprise.model_selection import train_test_split\n",
        "trainset, testset = train_test_split(data, test_size=.25)\n",
        "# Train the algorithm on the trainset, and predict ratings for the testset\n",
        "algo = SVD()\n",
        "algo.fit(trainset)\n",
        "predictions = algo.test(testset)"
      ],
      "execution_count": 0,
      "outputs": []
    },
    {
      "cell_type": "code",
      "metadata": {
        "id": "3LzfWfgQaZgW",
        "colab_type": "code",
        "colab": {
          "base_uri": "https://localhost:8080/",
          "height": 867
        },
        "outputId": "4564474b-812c-4fec-eeba-3651b84ea4ff"
      },
      "source": [
        "import random\n",
        "for elem in random.sample(predictions, 50):\n",
        "  print(f'User {elem.uid} - {elem.iid}, ground true: {elem.r_ui}, predicted: {elem.est} ')"
      ],
      "execution_count": 25,
      "outputs": [
        {
          "output_type": "stream",
          "text": [
            "User 2539 - keithrapley, ground true: 9.0, predicted: 7.756651108280522 \n",
            "User 153497 - cherecche, ground true: 6.6, predicted: 6.425169982989881 \n",
            "User 156062 - babelt, ground true: 7.0, predicted: 6.230151630178607 \n",
            "User 94732 - Hiru87, ground true: 6.0, predicted: 6.45190953998036 \n",
            "User 245473 - LizardSoldier, ground true: 8.2, predicted: 8.53218183003005 \n",
            "User 124965 - savantt, ground true: 8.5, predicted: 7.857500693168237 \n",
            "User 189160 - kyle_the_white, ground true: 7.0, predicted: 7.4062890310128315 \n",
            "User 651 - tera, ground true: 7.0, predicted: 7.0173195274698905 \n",
            "User 5554 - 4apaev, ground true: 6.0, predicted: 6.09207869381939 \n",
            "User 19508 - Purri, ground true: 7.0, predicted: 6.469070560193746 \n",
            "User 18946 - frank_avocado, ground true: 6.0, predicted: 6.682913106676345 \n",
            "User 236781 - HouseOfPanda, ground true: 9.0, predicted: 8.789708708832013 \n",
            "User 189222 - Lox013, ground true: 7.1, predicted: 7.525937948884324 \n",
            "User 218547 - listersantos, ground true: 8.0, predicted: 8.15484917763394 \n",
            "User 12318 - HRune, ground true: 7.0, predicted: 6.7927647885918505 \n",
            "User 118337 - arcanus, ground true: 6.0, predicted: 7.395076988763586 \n",
            "User 9615 - angatheart, ground true: 6.0, predicted: 6.9479907918612565 \n",
            "User 194291 - Hplazarus, ground true: 7.0, predicted: 7.665077120330162 \n",
            "User 230591 - mikevande, ground true: 7.0, predicted: 7.0072112673041165 \n",
            "User 251219 - peldik, ground true: 8.0, predicted: 8.293766395378249 \n",
            "User 2 - Scramsax, ground true: 7.0, predicted: 6.6048746179103155 \n",
            "User 5730 - tempus42, ground true: 7.0, predicted: 7.131547252196042 \n",
            "User 2166 - crito13, ground true: 7.0, predicted: 6.483257597692833 \n",
            "User 211733 - jbaileymusic, ground true: 10.0, predicted: 8.759192666591852 \n",
            "User 226254 - Dugy, ground true: 7.0, predicted: 7.700873430386421 \n",
            "User 3230 - Bernaar, ground true: 7.0, predicted: 7.060123300391224 \n",
            "User 155 - wolf08, ground true: 8.0, predicted: 7.074915907047681 \n",
            "User 164031 - Ishmare, ground true: 7.0, predicted: 7.480279286711143 \n",
            "User 2792 - gnomehome, ground true: 7.2, predicted: 6.517124194787512 \n",
            "User 89668 - ErisQuilty, ground true: 8.0, predicted: 7.323165712633079 \n",
            "User 236206 - Betsunin, ground true: 9.5, predicted: 9.433444174636795 \n",
            "User 143096 - SmoovySmoov, ground true: 8.0, predicted: 7.151379634932682 \n",
            "User 21030 - Larry Chong, ground true: 9.0, predicted: 8.00755183485616 \n",
            "User 198942 - Larydiel, ground true: 10.0, predicted: 8.711480200363356 \n",
            "User 13 - cwj2102, ground true: 8.0, predicted: 7.506370864725584 \n",
            "User 92120 - Nemesys, ground true: 7.5, predicted: 6.8433758146218056 \n",
            "User 155255 - amarillo114, ground true: 7.0, predicted: 8.287520619103159 \n",
            "User 213788 - silentxsound, ground true: 7.5, predicted: 8.3355992108243 \n",
            "User 136587 - jrmillionaire, ground true: 8.0, predicted: 6.798328936450617 \n",
            "User 38821 - Gibbo, ground true: 6.0, predicted: 6.7068123520351515 \n",
            "User 227748 - LukeWarmLuke, ground true: 8.0, predicted: 8.317961627645987 \n",
            "User 1622 - mortee50, ground true: 5.0, predicted: 5.911983316208124 \n",
            "User 20 - Rickmtl29, ground true: 9.0, predicted: 7.934983295695829 \n",
            "User 97803 - thejameskiller, ground true: 7.0, predicted: 6.549568696298631 \n",
            "User 200834 - funkyherman, ground true: 7.0, predicted: 6.994581550861095 \n",
            "User 152314 - jrothaug, ground true: 9.0, predicted: 8.916622049017267 \n",
            "User 18289 - Kaktus Morderca, ground true: 8.0, predicted: 6.781148576498287 \n",
            "User 197409 - Two Crows, ground true: 6.0, predicted: 7.334510400269418 \n",
            "User 177156 - Dello77, ground true: 7.0, predicted: 7.410055938861962 \n",
            "User 1144 - KABoudreau, ground true: 7.0, predicted: 6.622926899590091 \n"
          ],
          "name": "stdout"
        }
      ]
    },
    {
      "cell_type": "markdown",
      "metadata": {
        "id": "vka5qmX3fmOu",
        "colab_type": "text"
      },
      "source": [
        "### Experiments (can be launched)"
      ]
    },
    {
      "cell_type": "markdown",
      "metadata": {
        "id": "Cs29n5yGfpGY",
        "colab_type": "text"
      },
      "source": [
        "#### List of all system users"
      ]
    },
    {
      "cell_type": "code",
      "metadata": {
        "id": "QcgijuJOeBG2",
        "colab_type": "code",
        "colab": {}
      },
      "source": [
        "users = list(set(list(ratings[\"username\"])))"
      ],
      "execution_count": 0,
      "outputs": []
    },
    {
      "cell_type": "markdown",
      "metadata": {
        "id": "tKjvKBRjf_ht",
        "colab_type": "text"
      },
      "source": [
        "#### Predict rating for n random users"
      ]
    },
    {
      "cell_type": "code",
      "metadata": {
        "id": "e_1eMgGjgJ68",
        "colab_type": "code",
        "colab": {}
      },
      "source": [
        "n = 10"
      ],
      "execution_count": 0,
      "outputs": []
    },
    {
      "cell_type": "code",
      "metadata": {
        "id": "8jZsvQvUdpXs",
        "colab_type": "code",
        "colab": {
          "base_uri": "https://localhost:8080/",
          "height": 187
        },
        "outputId": "d3f30fd2-c129-4fcb-87a4-514b08f0fbc7"
      },
      "source": [
        "import random\n",
        "for i in range(n):\n",
        "  a = algo.predict(i, random.sample(users, 1)[0])\n",
        "  print(f\"User: {a.iid}, predicted_rating: {a.est}\")"
      ],
      "execution_count": 41,
      "outputs": [
        {
          "output_type": "stream",
          "text": [
            "User: forlorn110, predicted_rating: 7.401810723524485\n",
            "User: Goton, predicted_rating: 7.635270921696519\n",
            "User: bravereguard, predicted_rating: 7.049602184200462\n",
            "User: provence, predicted_rating: 7.041841821595072\n",
            "User: blackwolf2015, predicted_rating: 7.236919798201963\n",
            "User: Ray Freeman, predicted_rating: 7.690385530085239\n",
            "User: enderhuntiii, predicted_rating: 6.960921887013244\n",
            "User: tomatosoupcan, predicted_rating: 7.211170401198862\n",
            "User: malvitz, predicted_rating: 7.365754579606477\n",
            "User: jtimmerman, predicted_rating: 7.19949852608117\n"
          ],
          "name": "stdout"
        }
      ]
    },
    {
      "cell_type": "markdown",
      "metadata": {
        "id": "4KnVSZojdIrq",
        "colab_type": "text"
      },
      "source": [
        "### Launching 5-fold cross validation, with different params. \n",
        "!!!! Warning - it make take about 15 minutes to run one cell, but the results visualization are below"
      ]
    },
    {
      "cell_type": "code",
      "metadata": {
        "id": "H7XVHZRQIIOT",
        "colab_type": "code",
        "colab": {}
      },
      "source": [
        "algo = SVD()\n",
        "validation_SVD = cross_validate(algo, data, measures=['RMSE','MSE', 'MAE'], cv=5, verbose=True)"
      ],
      "execution_count": 0,
      "outputs": []
    },
    {
      "cell_type": "code",
      "metadata": {
        "id": "WsYC13-kVavQ",
        "colab_type": "code",
        "colab": {}
      },
      "source": [
        "algo = SVD(biased = False)\n",
        "validation_SVD_probabilistic = cross_validate(algo, data, measures=['RMSE', 'MSE', 'MAE'], cv=5, verbose=True)"
      ],
      "execution_count": 0,
      "outputs": []
    },
    {
      "cell_type": "markdown",
      "metadata": {
        "id": "cNYNuuC_ggsc",
        "colab_type": "text"
      },
      "source": [
        "#### Visualization"
      ]
    },
    {
      "cell_type": "markdown",
      "metadata": {
        "id": "ORSPKXHoglfy",
        "colab_type": "text"
      },
      "source": [
        "##### SVD ordinary"
      ]
    },
    {
      "cell_type": "code",
      "metadata": {
        "id": "BYf6Dt4DLpyj",
        "colab_type": "code",
        "outputId": "81d4f3b4-1520-4274-c1d3-4e8037d20775",
        "colab": {
          "base_uri": "https://localhost:8080/",
          "height": 361
        }
      },
      "source": [
        "plt.style.use('seaborn')\n",
        "df = pd.DataFrame({'Training instances':['Fold 1', 'Fold 2', 'Fold 3', 'Fold 4', 'Fold 5'],\n",
        "                   'MAE': validation_SVD.get('test_mae'),\n",
        "                   'MSE':validation_SVD.get('test_mse')\n",
        "                   })\n",
        "\n",
        "ax = df.plot.bar(x='Training instances', y={'MSE', 'MAE'}, rot=0)\n",
        "\n",
        "ax.axhline(np.mean(validation_SVD.get('test_mse')), xmin = 0, xmax = 1,  ls = ':')\n",
        "ax.axhline(np.mean(validation_SVD.get('test_mae')),  xmin = 0, xmax = 1, ls = ':',   c = 'C1')\n",
        "plt.legend((\"mean MSE = {:.2}\".format(np.mean(validation_SVD.get('test_mse'))),\n",
        "            \"mean MAE = {:.2}\".format(np.mean(validation_SVD.get('test_mae'))) ,\n",
        "            \"MSE\", \"MAE\"), loc='lower left', frameon=False)\n",
        "plt.savefig('drive/My Drive/Thesis/SVD_new.png')\n",
        "# plt.show()"
      ],
      "execution_count": 0,
      "outputs": [
        {
          "output_type": "display_data",
          "data": {
            "image/png": "[encoded data removed]",
            "text/plain": [
              "<Figure size 576x396 with 1 Axes>"
            ]
          },
          "metadata": {
            "tags": []
          }
        }
      ]
    },
    {
      "cell_type": "markdown",
      "metadata": {
        "id": "hOYPlhZmgu5X",
        "colab_type": "text"
      },
      "source": [
        "##### SVD probabilistic (PMF)"
      ]
    },
    {
      "cell_type": "code",
      "metadata": {
        "id": "4lQ_CxwNKYHi",
        "colab_type": "code",
        "outputId": "6c527de2-b322-4a02-f185-fd5043c93a20",
        "colab": {
          "base_uri": "https://localhost:8080/",
          "height": 361
        }
      },
      "source": [
        "plt.style.use('seaborn')\n",
        "df = pd.DataFrame({'Training instances':['Fold 1', 'Fold 2', 'Fold 3', 'Fold 4', 'Fold 5'],\n",
        "                   'MAE': validation_SVD_probabilistic.get('test_mae'),\n",
        "                   'MSE':validation_SVD_probabilistic.get('test_mse')\n",
        "                   })\n",
        "\n",
        "ax = df.plot.bar(x='Training instances', y={'MSE', 'MAE'}, rot=0)\n",
        "\n",
        "ax.axhline(np.mean(validation_SVD_probabilistic.get('test_mse')), xmin = 0, xmax = 1,  ls = ':')\n",
        "ax.axhline(np.mean(validation_SVD_probabilistic.get('test_mae')),  xmin = 0, xmax = 1, ls = ':',   c = 'C1')\n",
        "plt.legend((\"mean MSE = {:.2}\".format(np.mean(validation_SVD_probabilistic.get('test_mse'))),\n",
        "            \"mean MAE = {:.2}\".format(np.mean(validation_SVD_probabilistic.get('test_mae'))) ,\n",
        "            \"MSE\", \"MAE\"), loc='lower left', frameon=False)\n",
        "plt.savefig('drive/My Drive/Thesis/SVD_probabilistic_new.png')\n",
        "# plt.show()"
      ],
      "execution_count": 0,
      "outputs": [
        {
          "output_type": "display_data",
          "data": {
            "image/png": "[encoded data removed]",
            "text/plain": [
              "<Figure size 576x396 with 1 Axes>"
            ]
          },
          "metadata": {
            "tags": []
          }
        }
      ]
    },
    {
      "cell_type": "markdown",
      "metadata": {
        "id": "I2QB6wqidekL",
        "colab_type": "text"
      },
      "source": [
        "## KNN experiments"
      ]
    },
    {
      "cell_type": "code",
      "metadata": {
        "id": "VRe0U7ClD73K",
        "colab_type": "code",
        "colab": {}
      },
      "source": [
        "from surprise import KNNBasic"
      ],
      "execution_count": 0,
      "outputs": []
    },
    {
      "cell_type": "markdown",
      "metadata": {
        "id": "gfOaJ1jHh3Gz",
        "colab_type": "text"
      },
      "source": [
        "#### Launch KNNBasic train and predict and visualize results"
      ]
    },
    {
      "cell_type": "code",
      "metadata": {
        "id": "8AMqXIArSHsk",
        "colab_type": "code",
        "outputId": "2f02e680-f3d6-4748-b276-658cb92b69f7",
        "colab": {
          "base_uri": "https://localhost:8080/",
          "height": 51
        }
      },
      "source": [
        "algo = KNNBasic()\n",
        "algo.fit(trainset)\n",
        "predictions = algo.test(testset)"
      ],
      "execution_count": 49,
      "outputs": [
        {
          "output_type": "stream",
          "text": [
            "Computing the msd similarity matrix...\n",
            "Done computing similarity matrix.\n"
          ],
          "name": "stdout"
        }
      ]
    },
    {
      "cell_type": "markdown",
      "metadata": {
        "id": "iM6PDM-mh6wv",
        "colab_type": "text"
      },
      "source": [
        "Random prediction on test"
      ]
    },
    {
      "cell_type": "code",
      "metadata": {
        "id": "Y8IkclQphvFj",
        "colab_type": "code",
        "colab": {
          "base_uri": "https://localhost:8080/",
          "height": 867
        },
        "outputId": "9bf6d85f-08dc-4c1c-c786-b357eff420a1"
      },
      "source": [
        "import random\n",
        "for elem in random.sample(predictions, 50):\n",
        "  print(f'User {elem.uid} - {elem.iid}, ground true: {elem.r_ui}, predicted: {elem.est} ')"
      ],
      "execution_count": 50,
      "outputs": [
        {
          "output_type": "stream",
          "text": [
            "User 2348 - Doomfarer, ground true: 6.0, predicted: 6.449528683275311 \n",
            "User 31380 - Pascal67, ground true: 7.15, predicted: 6.224911933375618 \n",
            "User 225977 - smoox, ground true: 7.5, predicted: 7.41408981488351 \n",
            "User 189950 - danielvinzia, ground true: 10.0, predicted: 9.36181606357176 \n",
            "User 67917 - Doel, ground true: 9.0, predicted: 7.925 \n",
            "User 203464 - lsy03, ground true: 7.0, predicted: 7.24396489314062 \n",
            "User 38845 - Flashhawk, ground true: 6.0, predicted: 6.892942662589715 \n",
            "User 1143 - kingsleypark, ground true: 7.0, predicted: 8.281279370401787 \n",
            "User 137480 - zuzusdad, ground true: 7.0, predicted: 7.909840306887563 \n",
            "User 242653 - profnuton, ground true: 9.0, predicted: 7.869034414576598 \n",
            "User 192297 - TomVasel, ground true: 8.0, predicted: 7.025 \n",
            "User 23964 - The Gamester, ground true: 7.0, predicted: 6.087230489493969 \n",
            "User 539 - woodoo03, ground true: 7.0, predicted: 7.162150768061449 \n",
            "User 201305 - Chez Geeks, ground true: 8.0, predicted: 7.201795519197219 \n",
            "User 66798 - Asinda, ground true: 8.0, predicted: 7.874867255836314 \n",
            "User 148975 - smallpull, ground true: 7.0, predicted: 6.42723066369662 \n",
            "User 225275 - Argamae, ground true: 9.0, predicted: 7.615325376647346 \n",
            "User 27532 - mimei, ground true: 7.0, predicted: 6.614111259988457 \n",
            "User 161434 - troytbyrne, ground true: 10.0, predicted: 9.103399837133331 \n",
            "User 7831 - Zulu von Auffenberg, ground true: 9.0, predicted: 9.530214264749047 \n",
            "User 178591 - Aldrenean, ground true: 7.5, predicted: 7.301387771786502 \n",
            "User 8569 - gratefulg, ground true: 6.0, predicted: 5.870579454890948 \n",
            "User 540 - Lord Heisemberg, ground true: 7.0, predicted: 6.768769248111871 \n",
            "User 91671 - Makalani, ground true: 7.0, predicted: 7.980586973459776 \n",
            "User 112192 - spinli, ground true: 7.0, predicted: 7.147497150890722 \n",
            "User 3845 - ssmetzer, ground true: 5.0, predicted: 6.0 \n",
            "User 13 - AelRakholh, ground true: 4.0, predicted: 6.957838681157244 \n",
            "User 84772 - telos81, ground true: 8.0, predicted: 7.388392297433835 \n",
            "User 92869 - vovoz, ground true: 10.0, predicted: 10 \n",
            "User 206244 - Kittydee89, ground true: 8.0, predicted: 8.963607031601134 \n",
            "User 235320 - garif, ground true: 8.0, predicted: 7.949591043689018 \n",
            "User 186375 - Toxziq, ground true: 9.0, predicted: 7.344959553280111 \n",
            "User 256065 - REAL TIGRIS, ground true: 8.0, predicted: 6.640714716125494 \n",
            "User 3843 - derO23, ground true: 6.0, predicted: 6.475703909240043 \n",
            "User 1612 - beppelecce, ground true: 10.0, predicted: 8.951798181692823 \n",
            "User 174 - Nico D, ground true: 6.5, predicted: 6.960100030473847 \n",
            "User 29005 - dsestak65, ground true: 8.0, predicted: 7.800315890083674 \n",
            "User 58329 - halbower, ground true: 6.0, predicted: 6.677213475036978 \n",
            "User 144325 - woerlinsel, ground true: 7.0, predicted: 6.85 \n",
            "User 2001 - Tokenekot, ground true: 6.0, predicted: 7.988292747080139 \n",
            "User 41302 - camillef, ground true: 7.0, predicted: 7.334930451727264 \n",
            "User 177079 - steffenb, ground true: 7.0, predicted: 6.804243963668143 \n",
            "User 102835 - jlrothe, ground true: 7.0, predicted: 6.393718092979705 \n",
            "User 84406 - caitano, ground true: 8.0, predicted: 8.581497704542244 \n",
            "User 209686 - Mikko O, ground true: 8.0, predicted: 8.885193244428635 \n",
            "User 171672 - Phantesca10, ground true: 7.0, predicted: 7.200634458117749 \n",
            "User 8017 - triplestep, ground true: 6.0, predicted: 6.872185342820655 \n",
            "User 152318 - misishi, ground true: 8.0, predicted: 8.71687231229124 \n",
            "User 223456 - zaincmt, ground true: 10.0, predicted: 8.8045341316836 \n",
            "User 199723 - Matze_MD, ground true: 10.0, predicted: 8.92658241555627 \n"
          ],
          "name": "stdout"
        }
      ]
    },
    {
      "cell_type": "markdown",
      "metadata": {
        "id": "0acXZR7diHV3",
        "colab_type": "text"
      },
      "source": [
        "### Experiments (can be launched)"
      ]
    },
    {
      "cell_type": "markdown",
      "metadata": {
        "id": "N9AgTnHbiPuA",
        "colab_type": "text"
      },
      "source": [
        "list of all users"
      ]
    },
    {
      "cell_type": "code",
      "metadata": {
        "id": "pLralFCghD06",
        "colab_type": "code",
        "colab": {}
      },
      "source": [
        "users = list(set(list(ratings[\"username\"])))\n",
        "n = 10"
      ],
      "execution_count": 0,
      "outputs": []
    },
    {
      "cell_type": "markdown",
      "metadata": {
        "id": "4haIO5ZFiUtl",
        "colab_type": "text"
      },
      "source": [
        "preidction for random n users"
      ]
    },
    {
      "cell_type": "code",
      "metadata": {
        "id": "bj1d9GKghFzz",
        "colab_type": "code",
        "colab": {
          "base_uri": "https://localhost:8080/",
          "height": 187
        },
        "outputId": "6c3695de-bd4b-428e-9a97-c13f60c21887"
      },
      "source": [
        "import random\n",
        "for i in range(n):\n",
        "  a = algo.predict(i, random.sample(users, 1)[0])\n",
        "  print(f\"User: {a.iid}, predicted_rating: {a.est}\")"
      ],
      "execution_count": 48,
      "outputs": [
        {
          "output_type": "stream",
          "text": [
            "User: k776, predicted_rating: 7.370733844814215\n",
            "User: cortn, predicted_rating: 7.370733844814215\n",
            "User: EricCartman87, predicted_rating: 6.4030492900472575\n",
            "User: azrael0, predicted_rating: 7.370733844814215\n",
            "User: krhayden, predicted_rating: 7.816897037712658\n",
            "User: Wimpgod, predicted_rating: 7.370733844814215\n",
            "User: Eawyne, predicted_rating: 7.370733844814215\n",
            "User: Killjoy, predicted_rating: 7.370733844814215\n",
            "User: Gallo22, predicted_rating: 7.6614077619299605\n",
            "User: markopolo310, predicted_rating: 7.370733844814215\n"
          ],
          "name": "stdout"
        }
      ]
    },
    {
      "cell_type": "markdown",
      "metadata": {
        "id": "BGXSOPTNify5",
        "colab_type": "text"
      },
      "source": [
        "### Cross validation on KNN. \n",
        "!!!! Warning - it make take about 15 minutes to run one cell, but the results visualization are below"
      ]
    },
    {
      "cell_type": "code",
      "metadata": {
        "id": "8WZKJeT6g-pZ",
        "colab_type": "code",
        "colab": {}
      },
      "source": [
        "validation_sinus = cross_validate(algo, data, measures=['RMSE','MSE', 'MAE'], cv=5, verbose=True)"
      ],
      "execution_count": 0,
      "outputs": []
    },
    {
      "cell_type": "code",
      "metadata": {
        "id": "mG32CWvgVxcK",
        "colab_type": "code",
        "outputId": "6e39715f-1d72-432e-ece7-01c3ed2b4075",
        "colab": {
          "base_uri": "https://localhost:8080/",
          "height": 408
        }
      },
      "source": [
        "sim_options = {'name': 'pearson_baseline'}\n",
        "algo = KNNBasic(sim_options = sim_options)\n",
        "\n",
        "# Run 5-fold cross-validation and print results\n",
        "validation_pearson = cross_validate(algo, data, measures=['RMSE','MSE', 'MAE'], cv=5, verbose=True)"
      ],
      "execution_count": 0,
      "outputs": [
        {
          "output_type": "stream",
          "text": [
            "Estimating biases using als...\n",
            "Computing the pearson_baseline similarity matrix...\n",
            "Done computing similarity matrix.\n",
            "Estimating biases using als...\n",
            "Computing the pearson_baseline similarity matrix...\n",
            "Done computing similarity matrix.\n",
            "Estimating biases using als...\n",
            "Computing the pearson_baseline similarity matrix...\n",
            "Done computing similarity matrix.\n",
            "Estimating biases using als...\n",
            "Computing the pearson_baseline similarity matrix...\n",
            "Done computing similarity matrix.\n",
            "Estimating biases using als...\n",
            "Computing the pearson_baseline similarity matrix...\n",
            "Done computing similarity matrix.\n",
            "Evaluating RMSE, MSE, MAE of algorithm KNNBasic on 5 split(s).\n",
            "\n",
            "                  Fold 1  Fold 2  Fold 3  Fold 4  Fold 5  Mean    Std     \n",
            "RMSE (testset)    1.0099  1.0099  1.0122  1.0100  1.0094  1.0103  0.0010  \n",
            "MSE (testset)     1.0200  1.0199  1.0246  1.0200  1.0189  1.0207  0.0020  \n",
            "MAE (testset)     0.7411  0.7421  0.7433  0.7408  0.7416  0.7418  0.0009  \n",
            "Fit time          47.54   48.51   48.85   48.51   48.81   48.44   0.47    \n",
            "Test time         52.80   52.50   52.69   51.54   52.04   52.31   0.47    \n"
          ],
          "name": "stdout"
        }
      ]
    },
    {
      "cell_type": "code",
      "metadata": {
        "id": "7HOeCg-3Xdq-",
        "colab_type": "code",
        "outputId": "cb79f585-9c11-46ba-86af-989ca422f980",
        "colab": {
          "base_uri": "https://localhost:8080/",
          "height": 363
        }
      },
      "source": [
        "plt.style.use('seaborn')\n",
        "df = pd.DataFrame({'Training instances':['Fold 1', 'Fold 2', 'Fold 3', 'Fold 4', 'Fold 5'],\n",
        "                   'MAE': validation_sinus.get('test_mae'),\n",
        "                   'MSE':validation_sinus.get('test_mse'),\n",
        "\n",
        "                   })\n",
        "\n",
        "ax = df.plot.bar(x='Training instances', y={'MSE', 'MAE'}, rot=0)\n",
        "\n",
        "ax.axhline(np.mean(validation_sinus.get('test_mse')), xmin = 0, xmax = 1,  ls = ':')\n",
        "ax.axhline(np.mean(validation_sinus.get('test_mae')),  xmin = 0, xmax = 1, ls = ':',   c = 'C1')\n",
        "plt.legend((\"mean MSE = {:.2}\".format(np.mean(validation_sinus.get('test_mse'))),\n",
        "            \"mean MAE = {:.2}\".format(np.mean(validation_sinus.get('test_mae'))) ,\n",
        "            \"MSE\", \"MAE\"), loc='lower left', frameon=False)\n",
        "plt.savefig('drive/My Drive/Thesis/KNNBasic_sinus_2m.png')\n",
        "# plt.show()"
      ],
      "execution_count": 0,
      "outputs": [
        {
          "output_type": "display_data",
          "data": {
            "image/png": "[encoded data removed]",
            "text/plain": [
              "<Figure size 576x396 with 1 Axes>"
            ]
          },
          "metadata": {
            "tags": []
          }
        }
      ]
    },
    {
      "cell_type": "code",
      "metadata": {
        "id": "7s2einoAJE3I",
        "colab_type": "code",
        "colab": {}
      },
      "source": [
        "import matplotlib.pyplot as plt"
      ],
      "execution_count": 0,
      "outputs": []
    },
    {
      "cell_type": "code",
      "metadata": {
        "id": "xfny2fJnxksM",
        "colab_type": "code",
        "outputId": "560e05e1-77a4-4d6b-d4eb-6e796755d068",
        "colab": {
          "base_uri": "https://localhost:8080/",
          "height": 361
        }
      },
      "source": [
        "plt.style.use('seaborn')\n",
        "df = pd.DataFrame({'Training instances':['Fold 1', 'Fold 2', 'Fold 3', 'Fold 4', 'Fold 5'],\n",
        "                   'MAE': validation_pearson.get('test_mae'),\n",
        "                   'MSE':validation_pearson.get('test_mse')\n",
        "                   })\n",
        "\n",
        "ax = df.plot.bar(x='Training instances', y={'MSE', 'MAE'}, rot=0)\n",
        "\n",
        "ax.axhline(np.mean(validation_pearson.get('test_mse')), xmin = 0, xmax = 1,  ls = ':')\n",
        "ax.axhline(np.mean(validation_pearson.get('test_mae')),  xmin = 0, xmax = 1, ls = ':',   c = 'C1')\n",
        "plt.legend((\"mean MSE = {:.2}\".format(np.mean(validation_pearson.get('test_mse'))),\n",
        "            \"mean MAE = {:.2}\".format(np.mean(validation_pearson.get('test_mae'))) ,\n",
        "            \"MSE\", \"MAE\"), loc='lower left', frameon=False)\n",
        "plt.savefig('drive/My Drive/Thesis/KNNBasic_Pearson_new.png')\n",
        "# plt.show()"
      ],
      "execution_count": 0,
      "outputs": [
        {
          "output_type": "display_data",
          "data": {
            "image/png": "[encoded data removed]",
            "text/plain": [
              "<Figure size 576x396 with 1 Axes>"
            ]
          },
          "metadata": {
            "tags": []
          }
        }
      ]
    },
    {
      "cell_type": "markdown",
      "metadata": {
        "id": "BgcmFaxzjAJB",
        "colab_type": "text"
      },
      "source": [
        "### Cross validation among SVD and KNN"
      ]
    },
    {
      "cell_type": "code",
      "metadata": {
        "id": "2KuCR4NINkLe",
        "colab_type": "code",
        "outputId": "fd092f35-8d44-418c-f19e-46c2350b2369",
        "colab": {
          "base_uri": "https://localhost:8080/",
          "height": 361
        }
      },
      "source": [
        "plt.style.use('seaborn')\n",
        "df = pd.DataFrame({'Methods':['SVD', 'PMF', 'kNN Cosine', 'kNN Pearson', 'NCF', 'DLMF'],\n",
        "                   'Mean_MSE': [np.mean(validation_SVD.get('test_mse')),\n",
        "                                 np.mean(validation_SVD_probabilistic.get('test_mse')),\n",
        "                                 np.mean(validation_sinus.get('test_mse')),\n",
        "                                 np.mean(validation_pearson.get('test_mse')),\n",
        "                                 0.7968,\n",
        "                                 0.5839],\n",
        "                   'Mean_MAE':  [np.mean(validation_SVD.get('test_mae')),\n",
        "                                 np.mean(validation_SVD_probabilistic.get('test_mae')),\n",
        "                                 np.mean(validation_sinus.get('test_mae')),\n",
        "                                 np.mean(validation_pearson.get('test_mae')),\n",
        "                                 0.6899,\n",
        "                                 0.5521]\n",
        "\n",
        "                   })\n",
        "\n",
        "ax = df.plot.bar(x='Methods', y={'Mean_MSE', 'Mean_MAE'}, rot=0)\n",
        "# plt.savefig('drive/My Drive/Thesis/comparison_new.png')\n",
        "plt.show()"
      ],
      "execution_count": 0,
      "outputs": [
        {
          "output_type": "display_data",
          "data": {
            "image/png": "[encoded data removed]",
            "text/plain": [
              "<Figure size 576x396 with 1 Axes>"
            ]
          },
          "metadata": {
            "tags": []
          }
        }
      ]
    },
    {
      "cell_type": "code",
      "metadata": {
        "id": "WNbaSSDpOpqv",
        "colab_type": "code",
        "colab": {}
      },
      "source": [
        ""
      ],
      "execution_count": 0,
      "outputs": []
    }
  ]
}