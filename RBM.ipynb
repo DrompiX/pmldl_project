{
  "nbformat": 4,
  "nbformat_minor": 0,
  "metadata": {
    "kernelspec": {
      "display_name": "Python 3",
      "language": "python",
      "name": "python3"
    },
    "language_info": {
      "codemirror_mode": {
        "name": "ipython",
        "version": 3
      },
      "file_extension": ".py",
      "mimetype": "text/x-python",
      "name": "python",
      "nbconvert_exporter": "python",
      "pygments_lexer": "ipython3",
      "version": "3.6.7"
    },
    "colab": {
      "name": "RBM.ipynb",
      "provenance": [],
      "toc_visible": true,
      "machine_shape": "hm"
    }
  },
  "cells": [
    {
      "cell_type": "markdown",
      "metadata": {
        "id": "QFsrNOfvx6c0",
        "colab_type": "text"
      },
      "source": [
        "# RBM"
      ]
    },
    {
      "cell_type": "code",
      "metadata": {
        "id": "-WxXaFFjx6c6",
        "colab_type": "code",
        "colab": {}
      },
      "source": [
        "import numpy as np \n",
        "import pandas as pd\n",
        "import matplotlib.pyplot as plt\n",
        "%matplotlib inline"
      ],
      "execution_count": 0,
      "outputs": []
    },
    {
      "cell_type": "code",
      "metadata": {
        "id": "_yGOFpKEx6dB",
        "colab_type": "code",
        "colab": {}
      },
      "source": [
        "from sklearn.model_selection import train_test_split\n",
        "from sklearn.metrics import mean_squared_error"
      ],
      "execution_count": 0,
      "outputs": []
    },
    {
      "cell_type": "code",
      "metadata": {
        "id": "Lh9SBrfmx6dL",
        "colab_type": "code",
        "colab": {}
      },
      "source": [
        "import tensorflow as tf"
      ],
      "execution_count": 0,
      "outputs": []
    },
    {
      "cell_type": "markdown",
      "metadata": {
        "id": "qC3fylZ8x6dQ",
        "colab_type": "text"
      },
      "source": [
        "Load the ratings dataset."
      ]
    },
    {
      "cell_type": "code",
      "metadata": {
        "id": "CXLyLO-rK9fz",
        "colab_type": "code",
        "colab": {}
      },
      "source": [
        "!wget \"https://drive.google.com/uc?export=download&id=1k-1uPww4lWAQ-cQlUHmdsYTmE_J_yOTz\" -O users_without_dubs.csv"
      ],
      "execution_count": 0,
      "outputs": []
    },
    {
      "cell_type": "code",
      "metadata": {
        "id": "FH565FSqyDtA",
        "colab_type": "code",
        "outputId": "f8309f7e-d37b-47e1-acff-52386eaa75b3",
        "colab": {
          "base_uri": "https://localhost:8080/",
          "height": 201
        }
      },
      "source": [
        "ratings = pd.read_csv('users_without_dubs.csv')\n",
        "ratings.head()"
      ],
      "execution_count": 6,
      "outputs": [
        {
          "output_type": "execute_result",
          "data": {
            "text/html": [
              "<div>\n",
              "<style scoped>\n",
              "    .dataframe tbody tr th:only-of-type {\n",
              "        vertical-align: middle;\n",
              "    }\n",
              "\n",
              "    .dataframe tbody tr th {\n",
              "        vertical-align: top;\n",
              "    }\n",
              "\n",
              "    .dataframe thead th {\n",
              "        text-align: right;\n",
              "    }\n",
              "</style>\n",
              "<table border=\"1\" class=\"dataframe\">\n",
              "  <thead>\n",
              "    <tr style=\"text-align: right;\">\n",
              "      <th></th>\n",
              "      <th>Unnamed: 0</th>\n",
              "      <th>gameid</th>\n",
              "      <th>username</th>\n",
              "      <th>rating</th>\n",
              "    </tr>\n",
              "  </thead>\n",
              "  <tbody>\n",
              "    <tr>\n",
              "      <th>0</th>\n",
              "      <td>0</td>\n",
              "      <td>2105</td>\n",
              "      <td>Metro123</td>\n",
              "      <td>10.0</td>\n",
              "    </tr>\n",
              "    <tr>\n",
              "      <th>1</th>\n",
              "      <td>1</td>\n",
              "      <td>2105</td>\n",
              "      <td>BoardGamer2008</td>\n",
              "      <td>10.0</td>\n",
              "    </tr>\n",
              "    <tr>\n",
              "      <th>2</th>\n",
              "      <td>2</td>\n",
              "      <td>2105</td>\n",
              "      <td>gruenspan47</td>\n",
              "      <td>9.9</td>\n",
              "    </tr>\n",
              "    <tr>\n",
              "      <th>3</th>\n",
              "      <td>3</td>\n",
              "      <td>2105</td>\n",
              "      <td>moxtaveto</td>\n",
              "      <td>9.0</td>\n",
              "    </tr>\n",
              "    <tr>\n",
              "      <th>4</th>\n",
              "      <td>4</td>\n",
              "      <td>2105</td>\n",
              "      <td>Mazoon</td>\n",
              "      <td>9.0</td>\n",
              "    </tr>\n",
              "  </tbody>\n",
              "</table>\n",
              "</div>"
            ],
            "text/plain": [
              "   Unnamed: 0  gameid        username  rating\n",
              "0           0    2105        Metro123    10.0\n",
              "1           1    2105  BoardGamer2008    10.0\n",
              "2           2    2105     gruenspan47     9.9\n",
              "3           3    2105       moxtaveto     9.0\n",
              "4           4    2105          Mazoon     9.0"
            ]
          },
          "metadata": {
            "tags": []
          },
          "execution_count": 6
        }
      ]
    },
    {
      "cell_type": "code",
      "metadata": {
        "id": "XpctKxQQ2s6q",
        "colab_type": "code",
        "colab": {}
      },
      "source": [
        "users = np.unique(ratings.username).astype(str)\n",
        "userssId = {user: i for  i, user in enumerate(users)}\n"
      ],
      "execution_count": 0,
      "outputs": []
    },
    {
      "cell_type": "code",
      "metadata": {
        "id": "oRmziZ5sx6dY",
        "colab_type": "code",
        "outputId": "040fb164-f8a9-43fc-8d0a-884d237ccdcd",
        "colab": {
          "base_uri": "https://localhost:8080/",
          "height": 201
        }
      },
      "source": [
        "ratings.username = [userssId[user] for user in ratings.username.astype(str)]\n",
        "ratings.gameid = ratings.gameid.astype(str).astype(int)\n",
        "ratings.rating = ratings.rating.astype(str).astype(float)\n",
        "ratings.head()"
      ],
      "execution_count": 8,
      "outputs": [
        {
          "output_type": "execute_result",
          "data": {
            "text/html": [
              "<div>\n",
              "<style scoped>\n",
              "    .dataframe tbody tr th:only-of-type {\n",
              "        vertical-align: middle;\n",
              "    }\n",
              "\n",
              "    .dataframe tbody tr th {\n",
              "        vertical-align: top;\n",
              "    }\n",
              "\n",
              "    .dataframe thead th {\n",
              "        text-align: right;\n",
              "    }\n",
              "</style>\n",
              "<table border=\"1\" class=\"dataframe\">\n",
              "  <thead>\n",
              "    <tr style=\"text-align: right;\">\n",
              "      <th></th>\n",
              "      <th>Unnamed: 0</th>\n",
              "      <th>gameid</th>\n",
              "      <th>username</th>\n",
              "      <th>rating</th>\n",
              "    </tr>\n",
              "  </thead>\n",
              "  <tbody>\n",
              "    <tr>\n",
              "      <th>0</th>\n",
              "      <td>0</td>\n",
              "      <td>2105</td>\n",
              "      <td>15037</td>\n",
              "      <td>10.0</td>\n",
              "    </tr>\n",
              "    <tr>\n",
              "      <th>1</th>\n",
              "      <td>1</td>\n",
              "      <td>2105</td>\n",
              "      <td>2737</td>\n",
              "      <td>10.0</td>\n",
              "    </tr>\n",
              "    <tr>\n",
              "      <th>2</th>\n",
              "      <td>2</td>\n",
              "      <td>2105</td>\n",
              "      <td>35220</td>\n",
              "      <td>9.9</td>\n",
              "    </tr>\n",
              "    <tr>\n",
              "      <th>3</th>\n",
              "      <td>3</td>\n",
              "      <td>2105</td>\n",
              "      <td>42279</td>\n",
              "      <td>9.0</td>\n",
              "    </tr>\n",
              "    <tr>\n",
              "      <th>4</th>\n",
              "      <td>4</td>\n",
              "      <td>2105</td>\n",
              "      <td>14830</td>\n",
              "      <td>9.0</td>\n",
              "    </tr>\n",
              "  </tbody>\n",
              "</table>\n",
              "</div>"
            ],
            "text/plain": [
              "   Unnamed: 0  gameid  username  rating\n",
              "0           0    2105     15037    10.0\n",
              "1           1    2105      2737    10.0\n",
              "2           2    2105     35220     9.9\n",
              "3           3    2105     42279     9.0\n",
              "4           4    2105     14830     9.0"
            ]
          },
          "metadata": {
            "tags": []
          },
          "execution_count": 8
        }
      ]
    },
    {
      "cell_type": "code",
      "metadata": {
        "id": "mubGTq-B2Kbg",
        "colab_type": "code",
        "colab": {
          "base_uri": "https://localhost:8080/",
          "height": 98
        },
        "outputId": "a6f1f716-49d7-4155-ca44-00d1aa51622a"
      },
      "source": [
        "gameIndex = ratings.groupby(\"gameid\").count().sort_values(by=\"rating\",ascending=False)[0:10000].index\n",
        "ratings2 = ratings[ratings.gameid.isin(gameIndex)]\n",
        "ratings2.count()"
      ],
      "execution_count": 9,
      "outputs": [
        {
          "output_type": "execute_result",
          "data": {
            "text/plain": [
              "Unnamed: 0    1822888\n",
              "gameid        1822888\n",
              "username      1822888\n",
              "rating        1822888\n",
              "dtype: int64"
            ]
          },
          "metadata": {
            "tags": []
          },
          "execution_count": 9
        }
      ]
    },
    {
      "cell_type": "code",
      "metadata": {
        "id": "xqEC12JC2aWG",
        "colab_type": "code",
        "colab": {
          "base_uri": "https://localhost:8080/",
          "height": 98
        },
        "outputId": "f385bdb4-6d0b-455a-8e95-e889a967e97f"
      },
      "source": [
        "userIndex = ratings2.groupby(\"username\").count().sort_values(by=\"rating\",ascending=False).sample(n=10000, random_state=1234).index\n",
        "ratings3 = ratings2[ratings2.username.isin(userIndex)]\n",
        "ratings3.count()"
      ],
      "execution_count": 13,
      "outputs": [
        {
          "output_type": "execute_result",
          "data": {
            "text/plain": [
              "Unnamed: 0    342114\n",
              "gameid        342114\n",
              "username      342114\n",
              "rating        342114\n",
              "dtype: int64"
            ]
          },
          "metadata": {
            "tags": []
          },
          "execution_count": 13
        }
      ]
    },
    {
      "cell_type": "markdown",
      "metadata": {
        "id": "ye6lhf_fx6dz",
        "colab_type": "text"
      },
      "source": [
        "reindex gameID and userID to a range of 1 to num_games, num_users"
      ]
    },
    {
      "cell_type": "code",
      "metadata": {
        "id": "kP9JWC9Kx6dz",
        "colab_type": "code",
        "outputId": "d8101f56-4d7d-4d6c-d437-9f093ce6890f",
        "colab": {
          "base_uri": "https://localhost:8080/",
          "height": 201
        }
      },
      "source": [
        "games = ratings3.gameid.unique()\n",
        "gamesDF = pd.DataFrame(data=games,columns=['originalGameId'])\n",
        "gamesDF['newGameId'] = gamesDF.index+1\n",
        "\n",
        "users = ratings3.username.unique()\n",
        "usersDF = pd.DataFrame(data=users,columns=['originalUserId'])\n",
        "usersDF['newUserId'] = usersDF.index+1\n",
        "\n",
        "ratingDF = ratings3.merge(gamesDF,left_on='gameid',right_on='originalGameId')\n",
        "ratingDF.drop(labels='originalGameId', axis=1, inplace=True)\n",
        "\n",
        "ratingDF = ratingDF.merge(usersDF,left_on='username',right_on='originalUserId')\n",
        "ratingDF.drop(labels='originalUserId', axis=1, inplace=True)\n",
        "\n",
        "ratingDF.head()"
      ],
      "execution_count": 14,
      "outputs": [
        {
          "output_type": "execute_result",
          "data": {
            "text/html": [
              "<div>\n",
              "<style scoped>\n",
              "    .dataframe tbody tr th:only-of-type {\n",
              "        vertical-align: middle;\n",
              "    }\n",
              "\n",
              "    .dataframe tbody tr th {\n",
              "        vertical-align: top;\n",
              "    }\n",
              "\n",
              "    .dataframe thead th {\n",
              "        text-align: right;\n",
              "    }\n",
              "</style>\n",
              "<table border=\"1\" class=\"dataframe\">\n",
              "  <thead>\n",
              "    <tr style=\"text-align: right;\">\n",
              "      <th></th>\n",
              "      <th>Unnamed: 0</th>\n",
              "      <th>gameid</th>\n",
              "      <th>username</th>\n",
              "      <th>rating</th>\n",
              "      <th>newGameId</th>\n",
              "      <th>newUserId</th>\n",
              "    </tr>\n",
              "  </thead>\n",
              "  <tbody>\n",
              "    <tr>\n",
              "      <th>0</th>\n",
              "      <td>13</td>\n",
              "      <td>2105</td>\n",
              "      <td>42413</td>\n",
              "      <td>8.0</td>\n",
              "      <td>1</td>\n",
              "      <td>1</td>\n",
              "    </tr>\n",
              "    <tr>\n",
              "      <th>1</th>\n",
              "      <td>6724</td>\n",
              "      <td>6474</td>\n",
              "      <td>42413</td>\n",
              "      <td>4.0</td>\n",
              "      <td>74</td>\n",
              "      <td>1</td>\n",
              "    </tr>\n",
              "    <tr>\n",
              "      <th>2</th>\n",
              "      <td>8165</td>\n",
              "      <td>57458</td>\n",
              "      <td>42413</td>\n",
              "      <td>7.0</td>\n",
              "      <td>90</td>\n",
              "      <td>1</td>\n",
              "    </tr>\n",
              "    <tr>\n",
              "      <th>3</th>\n",
              "      <td>18868</td>\n",
              "      <td>1390</td>\n",
              "      <td>42413</td>\n",
              "      <td>5.0</td>\n",
              "      <td>208</td>\n",
              "      <td>1</td>\n",
              "    </tr>\n",
              "    <tr>\n",
              "      <th>4</th>\n",
              "      <td>19411</td>\n",
              "      <td>2824</td>\n",
              "      <td>42413</td>\n",
              "      <td>5.0</td>\n",
              "      <td>214</td>\n",
              "      <td>1</td>\n",
              "    </tr>\n",
              "  </tbody>\n",
              "</table>\n",
              "</div>"
            ],
            "text/plain": [
              "   Unnamed: 0  gameid  username  rating  newGameId  newUserId\n",
              "0          13    2105     42413     8.0          1          1\n",
              "1        6724    6474     42413     4.0         74          1\n",
              "2        8165   57458     42413     7.0         90          1\n",
              "3       18868    1390     42413     5.0        208          1\n",
              "4       19411    2824     42413     5.0        214          1"
            ]
          },
          "metadata": {
            "tags": []
          },
          "execution_count": 14
        }
      ]
    },
    {
      "cell_type": "code",
      "metadata": {
        "id": "eG0qdP7Vx6d6",
        "colab_type": "code",
        "outputId": "012ce106-8e36-4d45-de8f-75b5c1c1eac1",
        "colab": {
          "base_uri": "https://localhost:8080/",
          "height": 82
        }
      },
      "source": [
        "n_users = ratingDF.username.unique().shape[0]\n",
        "n_games = ratingDF.gameid.unique().shape[0]\n",
        "n_ratings = len(ratingDF)\n",
        "avg_ratings_per_user = n_ratings/n_users\n",
        "print('Number of unique users: ', n_users)\n",
        "print('Number of unique games: ', n_games)\n",
        "print('Number of total ratings: ', n_ratings)\n",
        "print('Average number of ratings per user: ', avg_ratings_per_user)"
      ],
      "execution_count": 15,
      "outputs": [
        {
          "output_type": "stream",
          "text": [
            "Number of unique users:  10000\n",
            "Number of unique games:  10000\n",
            "Number of total ratings:  342114\n",
            "Average number of ratings per user:  34.2114\n"
          ],
          "name": "stdout"
        }
      ]
    },
    {
      "cell_type": "markdown",
      "metadata": {
        "id": "YCvTOlzpx6d-",
        "colab_type": "text"
      },
      "source": [
        "Let’s generate a test set and a validation set from the dataset so that each holdout set is 5% of the dataset."
      ]
    },
    {
      "cell_type": "code",
      "metadata": {
        "id": "2FsLN-_Yx6d-",
        "colab_type": "code",
        "colab": {}
      },
      "source": [
        "X_train, X_test = train_test_split(ratingDF, test_size=0.10, shuffle=True, random_state=2018)\n",
        "X_validation, X_test = train_test_split(X_test, test_size=0.50, shuffle=True, random_state=2018)"
      ],
      "execution_count": 0,
      "outputs": []
    },
    {
      "cell_type": "markdown",
      "metadata": {
        "id": "mN29mpfxx6eJ",
        "colab_type": "text"
      },
      "source": [
        "Let’s create a matrix m x n, where m are the users and n are the games. This will be a sparsely populated matrix because users rate only a fraction of the games."
      ]
    },
    {
      "cell_type": "markdown",
      "metadata": {
        "id": "QzOmXYFox6eJ",
        "colab_type": "text"
      },
      "source": [
        "Generate ratings matrix for train."
      ]
    },
    {
      "cell_type": "code",
      "metadata": {
        "id": "fi6R6nm4x6eK",
        "colab_type": "code",
        "colab": {}
      },
      "source": [
        "ratings_train = np.zeros((n_users, n_games))\n",
        "for row in X_train.itertuples():\n",
        "    ratings_train[row[6]-1, row[5]-1] = row[4]"
      ],
      "execution_count": 0,
      "outputs": []
    },
    {
      "cell_type": "markdown",
      "metadata": {
        "id": "xM5mPvkRx6eR",
        "colab_type": "text"
      },
      "source": [
        "Calculate sparsity of the train ratings matrix."
      ]
    },
    {
      "cell_type": "code",
      "metadata": {
        "id": "Bk0IQxXmx6eR",
        "colab_type": "code",
        "outputId": "14d77177-4d74-461f-b54b-154788adadcd",
        "colab": {
          "base_uri": "https://localhost:8080/",
          "height": 32
        }
      },
      "source": [
        "sparsity = float(len(ratings_train.nonzero()[0]))\n",
        "sparsity /= (ratings_train.shape[0] * ratings_train.shape[1])\n",
        "sparsity *= 100\n",
        "print('Sparsity: {:4.2f}%'.format(sparsity))"
      ],
      "execution_count": 18,
      "outputs": [
        {
          "output_type": "stream",
          "text": [
            "Sparsity: 0.31%\n"
          ],
          "name": "stdout"
        }
      ]
    },
    {
      "cell_type": "markdown",
      "metadata": {
        "id": "yupGpJdcx6eU",
        "colab_type": "text"
      },
      "source": [
        "Generate ratings matrix for validation."
      ]
    },
    {
      "cell_type": "code",
      "metadata": {
        "id": "GhDJ1SqDx6eV",
        "colab_type": "code",
        "colab": {}
      },
      "source": [
        "ratings_validation = np.zeros((n_users, n_games))\n",
        "for row in X_validation.itertuples():\n",
        "    ratings_validation[row[6]-1, row[5]-1] = row[4]"
      ],
      "execution_count": 0,
      "outputs": []
    },
    {
      "cell_type": "markdown",
      "metadata": {
        "id": "LOpLfRD3x6eX",
        "colab_type": "text"
      },
      "source": [
        "Generate ratings matrix for test."
      ]
    },
    {
      "cell_type": "code",
      "metadata": {
        "id": "8cdhLf7rx6eY",
        "colab_type": "code",
        "colab": {}
      },
      "source": [
        "ratings_test = np.zeros((n_users, n_games))\n",
        "for row in X_test.itertuples():\n",
        "    ratings_test[row[6]-1, row[5]-1] = row[4]"
      ],
      "execution_count": 0,
      "outputs": []
    },
    {
      "cell_type": "markdown",
      "metadata": {
        "id": "9PUlbqOfx6ea",
        "colab_type": "text"
      },
      "source": [
        "Calculate sparsity of the validation ratings matrix."
      ]
    },
    {
      "cell_type": "code",
      "metadata": {
        "id": "IgRQUcRFx6ea",
        "colab_type": "code",
        "outputId": "94b371f4-8f7d-43f9-91a2-69cd182fb5af",
        "colab": {
          "base_uri": "https://localhost:8080/",
          "height": 32
        }
      },
      "source": [
        "sparsity = float(len(ratings_validation.nonzero()[0]))\n",
        "sparsity /= (ratings_validation.shape[0] * ratings_validation.shape[1])\n",
        "sparsity *= 100\n",
        "print('Sparsity: {:4.2f}%'.format(sparsity))"
      ],
      "execution_count": 21,
      "outputs": [
        {
          "output_type": "stream",
          "text": [
            "Sparsity: 0.02%\n"
          ],
          "name": "stdout"
        }
      ]
    },
    {
      "cell_type": "markdown",
      "metadata": {
        "id": "e7QlObK1x6ec",
        "colab_type": "text"
      },
      "source": [
        "Define RBM class."
      ]
    },
    {
      "cell_type": "code",
      "metadata": {
        "id": "zGWJj7Eix6ed",
        "colab_type": "code",
        "colab": {}
      },
      "source": [
        "class RBM(object):\n",
        "    \n",
        "    def __init__(self, input_size, output_size, \n",
        "                 learning_rate, epochs, batchsize):\n",
        "        # Define hyperparameters\n",
        "        self._input_size = input_size\n",
        "        self._output_size = output_size\n",
        "        self.learning_rate = learning_rate\n",
        "        self.epochs = epochs\n",
        "        self.batchsize = batchsize\n",
        "        \n",
        "        # Initialize weights and biases using zero matrices\n",
        "        self.w = np.zeros([input_size, output_size], dtype=np.float32)\n",
        "        self.hb = np.zeros([output_size], dtype=np.float32)\n",
        "        self.vb = np.zeros([input_size], dtype=np.float32)\n",
        "\n",
        "    def prob_h_given_v(self, visible, w, hb):\n",
        "        return tf.nn.sigmoid(tf.matmul(visible, w) + hb)\n",
        "\n",
        "    def prob_v_given_h(self, hidden, w, vb):\n",
        "        return tf.nn.sigmoid(tf.matmul(hidden, tf.transpose(w)) + vb)\n",
        "    \n",
        "    def sample_prob(self, probs):\n",
        "        return tf.nn.relu(tf.sign(probs - tf.random_uniform(tf.shape(probs))))\n",
        "\n",
        "    def train(self, X):\n",
        "        _w = tf.placeholder(tf.float32, [self._input_size, self._output_size])\n",
        "        _hb = tf.placeholder(tf.float32, [self._output_size])\n",
        "        _vb = tf.placeholder(tf.float32, [self._input_size])\n",
        "        \n",
        "        prv_w = np.zeros([self._input_size, self._output_size], dtype=np.float32)\n",
        "        prv_hb = np.zeros([self._output_size], dtype=np.float32)\n",
        "        prv_vb = np.zeros([self._input_size], dtype=np.float32)\n",
        "        \n",
        "        cur_w = np.zeros([self._input_size, self._output_size], dtype=np.float32)\n",
        "        cur_hb = np.zeros([self._output_size], dtype=np.float32)\n",
        "        cur_vb = np.zeros([self._input_size], dtype=np.float32)\n",
        "        \n",
        "        v0 = tf.placeholder(tf.float32, [None, self._input_size])\n",
        "        h0 = self.sample_prob(self.prob_h_given_v(v0, _w, _hb))\n",
        "        v1 = self.sample_prob(self.prob_v_given_h(h0, _w, _vb))\n",
        "        h1 = self.prob_h_given_v(v1, _w, _hb)\n",
        "        \n",
        "        positive_grad = tf.matmul(tf.transpose(v0), h0)\n",
        "        negative_grad = tf.matmul(tf.transpose(v1), h1)\n",
        "        \n",
        "        update_w = _w + self.learning_rate * (positive_grad - negative_grad) / tf.to_float(tf.shape(v0)[0])\n",
        "        update_vb = _vb +  self.learning_rate * tf.reduce_mean(v0 - v1, 0)\n",
        "        update_hb = _hb +  self.learning_rate * tf.reduce_mean(h0 - h1, 0)\n",
        "        \n",
        "        err = tf.reduce_mean(tf.square(v0 - v1))\n",
        "        \n",
        "        error_list = []\n",
        "        \n",
        "        with tf.Session() as sess:\n",
        "            sess.run(tf.global_variables_initializer())\n",
        "            \n",
        "            for epoch in range(self.epochs):\n",
        "                for start, end in zip(range(0, len(X), self.batchsize),range(self.batchsize,len(X), self.batchsize)):\n",
        "                    batch = X[start:end]\n",
        "                    cur_w = sess.run(update_w, feed_dict={v0: batch, _w: prv_w, _hb: prv_hb, _vb: prv_vb})\n",
        "                    cur_hb = sess.run(update_hb, feed_dict={v0: batch, _w: prv_w, _hb: prv_hb, _vb: prv_vb})\n",
        "                    cur_vb = sess.run(update_vb, feed_dict={v0: batch, _w: prv_w, _hb: prv_hb, _vb: prv_vb})\n",
        "                    prv_w = cur_w\n",
        "                    prv_hb = cur_hb\n",
        "                    prv_vb = cur_vb\n",
        "                error = sess.run(err, feed_dict={v0: X, _w: cur_w, _vb: cur_vb, _hb: cur_hb})\n",
        "                print ('Epoch: %d' % epoch,'reconstruction error: %f' % error)\n",
        "                error_list.append(error)\n",
        "            self.w = prv_w\n",
        "            self.hb = prv_hb\n",
        "            self.vb = prv_vb\n",
        "            return error_list\n",
        "\n",
        "    def rbm_output(self, X):\n",
        "        \n",
        "        input_X = tf.constant(X)\n",
        "        _w = tf.constant(self.w)\n",
        "        _hb = tf.constant(self.hb)\n",
        "        _vb = tf.constant(self.vb)\n",
        "        out = tf.nn.sigmoid(tf.matmul(input_X, _w) + _hb)\n",
        "        hiddenGen = self.sample_prob(self.prob_h_given_v(input_X, _w, _hb))\n",
        "        visibleGen = self.sample_prob(self.prob_v_given_h(hiddenGen, _w, _vb))\n",
        "        with tf.Session() as sess:\n",
        "            sess.run(tf.global_variables_initializer())\n",
        "            return sess.run(out), sess.run(visibleGen), sess.run(hiddenGen)"
      ],
      "execution_count": 0,
      "outputs": []
    },
    {
      "cell_type": "code",
      "metadata": {
        "id": "PgJUzOsZy0Dz",
        "colab_type": "code",
        "colab": {
          "base_uri": "https://localhost:8080/",
          "height": 32
        },
        "outputId": "a32b10ab-710c-406b-932b-296282aad431"
      },
      "source": [
        "ratings_train.shape"
      ],
      "execution_count": 23,
      "outputs": [
        {
          "output_type": "execute_result",
          "data": {
            "text/plain": [
              "(10000, 10000)"
            ]
          },
          "metadata": {
            "tags": []
          },
          "execution_count": 23
        }
      ]
    },
    {
      "cell_type": "code",
      "metadata": {
        "id": "-GCrtsB-x6ef",
        "colab_type": "code",
        "colab": {}
      },
      "source": [
        "#Begin the training cycle\n",
        "# Convert inputX into float32\n",
        "inputX = ratings_train.astype(np.float32)\n",
        "\n",
        "\n",
        "# Define the parameters of the RBMs we will train\n",
        "rbm=RBM(10000, 10000, 0.3, 20, 200)"
      ],
      "execution_count": 0,
      "outputs": []
    },
    {
      "cell_type": "code",
      "metadata": {
        "id": "R7LEiPuJ8HxW",
        "colab_type": "code",
        "colab": {}
      },
      "source": [
        "import tensorflow.compat.v1 as tf\n",
        "tf.disable_v2_behavior() "
      ],
      "execution_count": 0,
      "outputs": []
    },
    {
      "cell_type": "code",
      "metadata": {
        "id": "jwnNhljNx6ei",
        "colab_type": "code",
        "outputId": "51d92db8-8073-4d50-ffcc-c9d1cceef5d2",
        "colab": {
          "base_uri": "https://localhost:8080/",
          "height": 345
        }
      },
      "source": [
        "# Train RBM model\n",
        "err = rbm.train(inputX)\n",
        "outputX, reconstructedX, hiddenX = rbm.rbm_output(inputX)"
      ],
      "execution_count": 30,
      "outputs": [
        {
          "output_type": "stream",
          "text": [
            "Epoch: 0 reconstruction error: 0.222729\n",
            "Epoch: 1 reconstruction error: 0.208655\n",
            "Epoch: 2 reconstruction error: 0.201015\n",
            "Epoch: 3 reconstruction error: 0.196895\n",
            "Epoch: 4 reconstruction error: 0.194520\n",
            "Epoch: 5 reconstruction error: 0.193139\n",
            "Epoch: 6 reconstruction error: 0.192285\n",
            "Epoch: 7 reconstruction error: 0.191824\n",
            "Epoch: 8 reconstruction error: 0.191461\n",
            "Epoch: 9 reconstruction error: 0.191075\n",
            "Epoch: 10 reconstruction error: 0.190854\n",
            "Epoch: 11 reconstruction error: 0.190697\n",
            "Epoch: 12 reconstruction error: 0.190585\n",
            "Epoch: 13 reconstruction error: 0.190404\n",
            "Epoch: 14 reconstruction error: 0.190320\n",
            "Epoch: 15 reconstruction error: 0.190220\n",
            "Epoch: 16 reconstruction error: 0.190150\n",
            "Epoch: 17 reconstruction error: 0.190103\n",
            "Epoch: 18 reconstruction error: 0.190027\n",
            "Epoch: 19 reconstruction error: 0.189967\n"
          ],
          "name": "stdout"
        }
      ]
    },
    {
      "cell_type": "code",
      "metadata": {
        "id": "nxfxx6y2x6ek",
        "colab_type": "code",
        "outputId": "252ec89d-7c3e-416b-e4dd-118e35676fb0",
        "colab": {
          "base_uri": "https://localhost:8080/",
          "height": 294
        }
      },
      "source": [
        "# Plot reconstruction errors\n",
        "pd.Series(err).plot(logy=False)\n",
        "plt.xlabel(\"Epoch\")\n",
        "plt.ylabel(\"Reconstruction Error\")"
      ],
      "execution_count": 31,
      "outputs": [
        {
          "output_type": "execute_result",
          "data": {
            "text/plain": [
              "Text(0, 0.5, 'Reconstruction Error')"
            ]
          },
          "metadata": {
            "tags": []
          },
          "execution_count": 31
        },
        {
          "output_type": "display_data",
          "data": {
            "image/png": "[encoded data removed]",
            "text/plain": [
              "<Figure size 432x288 with 1 Axes>"
            ]
          },
          "metadata": {
            "tags": [],
            "needs_background": "light"
          }
        }
      ]
    },
    {
      "cell_type": "code",
      "metadata": {
        "id": "nZTV0ZfTx6em",
        "colab_type": "code",
        "colab": {}
      },
      "source": [
        "# Predict ratings for validation set\n",
        "inputValidation = ratings_validation\n",
        "inputValidation = inputValidation.astype(np.float32)\n",
        "finalOutput_validation, reconstructedOutput_validation, _ = rbm.rbm_output(inputValidation)"
      ],
      "execution_count": 0,
      "outputs": []
    },
    {
      "cell_type": "code",
      "metadata": {
        "id": "mxogBleTx6en",
        "colab_type": "code",
        "outputId": "4e2512be-7835-4c32-be32-74de67eb3c77",
        "colab": {
          "base_uri": "https://localhost:8080/",
          "height": 32
        }
      },
      "source": [
        "# Calculate MSE on validation set\n",
        "predictionsArray = reconstructedOutput_validation\n",
        "pred_validation = predictionsArray[ratings_validation.nonzero()].flatten()\n",
        "actual_validation = ratings_validation[ratings_validation.nonzero()].flatten()\n",
        "rbm_prediction = mean_squared_error(pred_validation, actual_validation)\n",
        "print('Mean squared error using RBM prediction:', rbm_prediction)"
      ],
      "execution_count": 33,
      "outputs": [
        {
          "output_type": "stream",
          "text": [
            "Mean squared error using RBM prediction: 53.6370220885529\n"
          ],
          "name": "stdout"
        }
      ]
    },
    {
      "cell_type": "code",
      "metadata": {
        "id": "7omtEM8nBB2S",
        "colab_type": "code",
        "colab": {}
      },
      "source": [
        ""
      ],
      "execution_count": 0,
      "outputs": []
    }
  ]
}